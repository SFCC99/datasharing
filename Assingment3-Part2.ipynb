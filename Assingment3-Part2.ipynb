{
  "nbformat": 4,
  "nbformat_minor": 0,
  "metadata": {
    "colab": {
      "name": "Assingment3-Part2.ipynb",
      "provenance": [],
      "collapsed_sections": []
    },
    "kernelspec": {
      "name": "python3",
      "display_name": "Python 3"
    },
    "language_info": {
      "name": "python"
    }
  },
  "cells": [
    {
      "cell_type": "markdown",
      "source": [
        "# Instruction\n",
        "\n",
        "In this part of the assignment, you will carry out regression tasks to explain the vaccination rate in the counties in the US. We have already used the dataset in the class. \n",
        "\n",
        "The data file is available from the link below.  "
      ],
      "metadata": {
        "id": "flKWdbFdv2bU"
      }
    },
    {
      "cell_type": "code",
      "execution_count": 1,
      "metadata": {
        "id": "Iph888VQpR7P",
        "outputId": "a385ad55-15ff-4768-99c7-263bb1a0191f",
        "colab": {
          "base_uri": "https://localhost:8080/"
        }
      },
      "outputs": [
        {
          "output_type": "stream",
          "name": "stdout",
          "text": [
            "--2022-01-06 10:57:34--  https://www.dropbox.com/s/zs20lk4n84ou8nh/df_vaccine_county.csv\n",
            "Resolving www.dropbox.com (www.dropbox.com)... 162.125.2.18, 2620:100:6017:18::a27d:212\n",
            "Connecting to www.dropbox.com (www.dropbox.com)|162.125.2.18|:443... connected.\n",
            "HTTP request sent, awaiting response... 301 Moved Permanently\n",
            "Location: /s/raw/zs20lk4n84ou8nh/df_vaccine_county.csv [following]\n",
            "--2022-01-06 10:57:34--  https://www.dropbox.com/s/raw/zs20lk4n84ou8nh/df_vaccine_county.csv\n",
            "Reusing existing connection to www.dropbox.com:443.\n",
            "HTTP request sent, awaiting response... 302 Found\n",
            "Location: https://ucca497ecdbb7fd41f7da32ede4e.dl.dropboxusercontent.com/cd/0/inline/BdTpY3-Hcp7I3rE_R1eY_bdY3wRacD9ZtC41qGLrIQfrX-55YlhirFR_Ukkjx7474AwiEb6sc-_v73OuBuryi_ITQLOjMbx8rPDl9x_ItFhfDHhAAV_2H6zh4qmaxJzCSsRYLDpZX9Iq0gnqejLx5gWt/file# [following]\n",
            "--2022-01-06 10:57:34--  https://ucca497ecdbb7fd41f7da32ede4e.dl.dropboxusercontent.com/cd/0/inline/BdTpY3-Hcp7I3rE_R1eY_bdY3wRacD9ZtC41qGLrIQfrX-55YlhirFR_Ukkjx7474AwiEb6sc-_v73OuBuryi_ITQLOjMbx8rPDl9x_ItFhfDHhAAV_2H6zh4qmaxJzCSsRYLDpZX9Iq0gnqejLx5gWt/file\n",
            "Resolving ucca497ecdbb7fd41f7da32ede4e.dl.dropboxusercontent.com (ucca497ecdbb7fd41f7da32ede4e.dl.dropboxusercontent.com)... 162.125.2.15, 2620:100:6017:15::a27d:20f\n",
            "Connecting to ucca497ecdbb7fd41f7da32ede4e.dl.dropboxusercontent.com (ucca497ecdbb7fd41f7da32ede4e.dl.dropboxusercontent.com)|162.125.2.15|:443... connected.\n",
            "HTTP request sent, awaiting response... 200 OK\n",
            "Length: 563319 (550K) [text/plain]\n",
            "Saving to: ‘df_vaccine_county.csv’\n",
            "\n",
            "df_vaccine_county.c 100%[===================>] 550.12K  --.-KB/s    in 0.1s    \n",
            "\n",
            "2022-01-06 10:57:35 (4.50 MB/s) - ‘df_vaccine_county.csv’ saved [563319/563319]\n",
            "\n"
          ]
        }
      ],
      "source": [
        "!wget https://www.dropbox.com/s/zs20lk4n84ou8nh/df_vaccine_county.csv -O df_vaccine_county.csv"
      ]
    },
    {
      "cell_type": "markdown",
      "source": [
        "The variable in the file are:\n",
        "\n",
        "- fips: County FIPS code\n",
        "\n",
        "- Series_Complete_pct_2021_**: Percentage of people who have finished two doses of vaccination\n",
        "  \n",
        "- pct_trump_2020: Trump vote percentage in 2020 presidential election\n",
        "\n",
        "- TotalPop: Total Population\n",
        "\n",
        "- Hispanic: % Hispanic\n",
        "\n",
        "- White: % White\n",
        "\n",
        "- Black: % black\n",
        "\n",
        "- Income: Median household income\n",
        "\n",
        "-  Unemployment: Unemployment rate\n",
        "\n",
        "- County: County name\n",
        "\n",
        "- st: State code\n",
        "\n",
        "- state: State name\n",
        "\n",
        "- Region: Region the county belongs"
      ],
      "metadata": {
        "id": "PF8aDbyXxPdc"
      }
    },
    {
      "cell_type": "code",
      "source": [
        "import pandas as pd\n",
        "import numpy as np\n",
        "import matplotlib.pyplot as plt\n",
        "import seaborn as sns"
      ],
      "metadata": {
        "id": "pS9V8pYXc76s"
      },
      "execution_count": 37,
      "outputs": []
    },
    {
      "cell_type": "markdown",
      "source": [
        "# Fit linear regression (17 percent)\n",
        "\n",
        "In this dataset there are 10 variables for the county level vaccination in each month from February to November 2021. In this section, you will carry out the following tasks.\n",
        "\n",
        "1. Run 10 linear regression models and record RMSE. Discuss the change in RMSE over time. \n",
        "2. Run 10 linear regression models and record coefficients. Discuss the results. How does the coefficient change over time? Which coefficient makes an interesting move?\n",
        "\n",
        "\n",
        "Note: \n",
        "- You need to follow standard ML steps (e.g. train-test-split)\n",
        "- You need to standardize the input variables for coefficient comparison\n",
        "\n",
        "Hints:\n",
        "\n",
        "- It is probably a good idea to construct a function to get the outcome metrics.\n",
        "    - An example of a partial function definition is provided below. The example function returns a data frame with one row. It is up to you whether you use it or not.\n",
        "- There are several possibilities to select the dependent variable for each month.\n",
        "    1. Use the variable name as an argument of your function\n",
        "    2. Reshape the data (e.g. `wide_to_long` etc)\n",
        "- There are missing values for some columns. You need to drop rows with missing values\n",
        "- My test run results for 2) looks like this (showing only Black and Income)\n",
        "\n",
        "| month | Black      | Income     |\n",
        "|-------|------------|------------|\n",
        "| 2     | -0.5747041 | -0.0484797 |\n",
        "| 3     | -2.3072432 | -0.3452062 |\n",
        "| 4     | -4.3787139 | -1.0462465 |\n",
        "| 5     | -5.1179071 | -1.0122352 |\n",
        "| 6     | -5.5947789 | -0.3423194 |\n",
        "| 7     | -6.0370055 | -0.0625332 |\n",
        "| 8     | -6.2024639 | 0.01005049 |\n",
        "| 9     | -6.2330683 | 0.05926672 |\n",
        "| 10    | -5.5140213 | 0.56110545 |\n",
        "| 11    | -3.5685842 | 1.32186301 |\n",
        "\n"
      ],
      "metadata": {
        "id": "MhCSpige08bs"
      }
    },
    {
      "cell_type": "code",
      "source": [
        "from sklearn.model_selection import train_test_split\n",
        "from sklearn.linear_model import LinearRegression\n",
        "from sklearn.metrics import mean_squared_error\n",
        "from sklearn.preprocessing import StandardScaler"
      ],
      "metadata": {
        "id": "Igf7muXAc2f7"
      },
      "execution_count": 3,
      "outputs": []
    },
    {
      "cell_type": "code",
      "source": [
        "df_vaccine_county = pd.read_csv(\"df_vaccine_county.csv\")\n",
        "df_vaccine_county.head()"
      ],
      "metadata": {
        "id": "pUQ_KUqmi1IM",
        "outputId": "11084559-28df-4b5f-f723-9c054e8e92fe",
        "colab": {
          "base_uri": "https://localhost:8080/",
          "height": 357
        }
      },
      "execution_count": 4,
      "outputs": [
        {
          "output_type": "execute_result",
          "data": {
            "text/html": [
              "\n",
              "  <div id=\"df-c610a05c-d475-4ac3-aab1-9f8c0af84cf4\">\n",
              "    <div class=\"colab-df-container\">\n",
              "      <div>\n",
              "<style scoped>\n",
              "    .dataframe tbody tr th:only-of-type {\n",
              "        vertical-align: middle;\n",
              "    }\n",
              "\n",
              "    .dataframe tbody tr th {\n",
              "        vertical-align: top;\n",
              "    }\n",
              "\n",
              "    .dataframe thead th {\n",
              "        text-align: right;\n",
              "    }\n",
              "</style>\n",
              "<table border=\"1\" class=\"dataframe\">\n",
              "  <thead>\n",
              "    <tr style=\"text-align: right;\">\n",
              "      <th></th>\n",
              "      <th>fips</th>\n",
              "      <th>Series_Complete_pct_2021_02</th>\n",
              "      <th>Series_Complete_pct_2021_03</th>\n",
              "      <th>Series_Complete_pct_2021_04</th>\n",
              "      <th>Series_Complete_pct_2021_05</th>\n",
              "      <th>Series_Complete_pct_2021_06</th>\n",
              "      <th>Series_Complete_pct_2021_07</th>\n",
              "      <th>Series_Complete_pct_2021_08</th>\n",
              "      <th>Series_Complete_pct_2021_09</th>\n",
              "      <th>Series_Complete_pct_2021_10</th>\n",
              "      <th>Series_Complete_pct_2021_11</th>\n",
              "      <th>pct_trump_2020</th>\n",
              "      <th>TotalPop</th>\n",
              "      <th>Hispanic</th>\n",
              "      <th>White</th>\n",
              "      <th>Black</th>\n",
              "      <th>Income</th>\n",
              "      <th>Unemployment</th>\n",
              "      <th>County</th>\n",
              "      <th>st</th>\n",
              "      <th>state</th>\n",
              "      <th>Region</th>\n",
              "    </tr>\n",
              "  </thead>\n",
              "  <tbody>\n",
              "    <tr>\n",
              "      <th>0</th>\n",
              "      <td>17073</td>\n",
              "      <td>2.2</td>\n",
              "      <td>6.7</td>\n",
              "      <td>19.1</td>\n",
              "      <td>32.9</td>\n",
              "      <td>39.6</td>\n",
              "      <td>43.4</td>\n",
              "      <td>45.1</td>\n",
              "      <td>47.1</td>\n",
              "      <td>48.9</td>\n",
              "      <td>53.9</td>\n",
              "      <td>0.595331</td>\n",
              "      <td>49649.0</td>\n",
              "      <td>5.5</td>\n",
              "      <td>90.8</td>\n",
              "      <td>1.8</td>\n",
              "      <td>55755.0</td>\n",
              "      <td>5.1</td>\n",
              "      <td>Henry County</td>\n",
              "      <td>IL</td>\n",
              "      <td>Illinois</td>\n",
              "      <td>Midwest</td>\n",
              "    </tr>\n",
              "    <tr>\n",
              "      <th>1</th>\n",
              "      <td>22025</td>\n",
              "      <td>0.7</td>\n",
              "      <td>6.6</td>\n",
              "      <td>11.4</td>\n",
              "      <td>19.6</td>\n",
              "      <td>22.2</td>\n",
              "      <td>24.0</td>\n",
              "      <td>25.4</td>\n",
              "      <td>29.7</td>\n",
              "      <td>34.8</td>\n",
              "      <td>36.5</td>\n",
              "      <td>0.728901</td>\n",
              "      <td>10044.0</td>\n",
              "      <td>1.5</td>\n",
              "      <td>66.0</td>\n",
              "      <td>31.9</td>\n",
              "      <td>34470.0</td>\n",
              "      <td>5.6</td>\n",
              "      <td>Catahoula Parish</td>\n",
              "      <td>LA</td>\n",
              "      <td>Louisiana</td>\n",
              "      <td>South</td>\n",
              "    </tr>\n",
              "    <tr>\n",
              "      <th>2</th>\n",
              "      <td>41035</td>\n",
              "      <td>2.4</td>\n",
              "      <td>7.3</td>\n",
              "      <td>18.2</td>\n",
              "      <td>25.9</td>\n",
              "      <td>32.7</td>\n",
              "      <td>37.2</td>\n",
              "      <td>39.0</td>\n",
              "      <td>40.6</td>\n",
              "      <td>43.6</td>\n",
              "      <td>46.3</td>\n",
              "      <td>0.689103</td>\n",
              "      <td>66018.0</td>\n",
              "      <td>12.3</td>\n",
              "      <td>78.7</td>\n",
              "      <td>0.7</td>\n",
              "      <td>42531.0</td>\n",
              "      <td>9.1</td>\n",
              "      <td>Klamath County</td>\n",
              "      <td>OR</td>\n",
              "      <td>Oregon</td>\n",
              "      <td>West</td>\n",
              "    </tr>\n",
              "    <tr>\n",
              "      <th>3</th>\n",
              "      <td>37173</td>\n",
              "      <td>1.2</td>\n",
              "      <td>10.5</td>\n",
              "      <td>22.7</td>\n",
              "      <td>33.9</td>\n",
              "      <td>37.2</td>\n",
              "      <td>39.8</td>\n",
              "      <td>40.9</td>\n",
              "      <td>43.2</td>\n",
              "      <td>45.8</td>\n",
              "      <td>49.1</td>\n",
              "      <td>0.588710</td>\n",
              "      <td>14208.0</td>\n",
              "      <td>4.9</td>\n",
              "      <td>62.7</td>\n",
              "      <td>0.5</td>\n",
              "      <td>35271.0</td>\n",
              "      <td>7.4</td>\n",
              "      <td>Swain County</td>\n",
              "      <td>NC</td>\n",
              "      <td>North Carolina</td>\n",
              "      <td>South</td>\n",
              "    </tr>\n",
              "    <tr>\n",
              "      <th>4</th>\n",
              "      <td>26145</td>\n",
              "      <td>2.1</td>\n",
              "      <td>8.3</td>\n",
              "      <td>19.4</td>\n",
              "      <td>31.8</td>\n",
              "      <td>38.6</td>\n",
              "      <td>42.1</td>\n",
              "      <td>43.3</td>\n",
              "      <td>44.6</td>\n",
              "      <td>45.8</td>\n",
              "      <td>48.5</td>\n",
              "      <td>0.491393</td>\n",
              "      <td>193803.0</td>\n",
              "      <td>8.3</td>\n",
              "      <td>69.7</td>\n",
              "      <td>18.1</td>\n",
              "      <td>45034.0</td>\n",
              "      <td>8.2</td>\n",
              "      <td>Saginaw County</td>\n",
              "      <td>MI</td>\n",
              "      <td>Michigan</td>\n",
              "      <td>Midwest</td>\n",
              "    </tr>\n",
              "  </tbody>\n",
              "</table>\n",
              "</div>\n",
              "      <button class=\"colab-df-convert\" onclick=\"convertToInteractive('df-c610a05c-d475-4ac3-aab1-9f8c0af84cf4')\"\n",
              "              title=\"Convert this dataframe to an interactive table.\"\n",
              "              style=\"display:none;\">\n",
              "        \n",
              "  <svg xmlns=\"http://www.w3.org/2000/svg\" height=\"24px\"viewBox=\"0 0 24 24\"\n",
              "       width=\"24px\">\n",
              "    <path d=\"M0 0h24v24H0V0z\" fill=\"none\"/>\n",
              "    <path d=\"M18.56 5.44l.94 2.06.94-2.06 2.06-.94-2.06-.94-.94-2.06-.94 2.06-2.06.94zm-11 1L8.5 8.5l.94-2.06 2.06-.94-2.06-.94L8.5 2.5l-.94 2.06-2.06.94zm10 10l.94 2.06.94-2.06 2.06-.94-2.06-.94-.94-2.06-.94 2.06-2.06.94z\"/><path d=\"M17.41 7.96l-1.37-1.37c-.4-.4-.92-.59-1.43-.59-.52 0-1.04.2-1.43.59L10.3 9.45l-7.72 7.72c-.78.78-.78 2.05 0 2.83L4 21.41c.39.39.9.59 1.41.59.51 0 1.02-.2 1.41-.59l7.78-7.78 2.81-2.81c.8-.78.8-2.07 0-2.86zM5.41 20L4 18.59l7.72-7.72 1.47 1.35L5.41 20z\"/>\n",
              "  </svg>\n",
              "      </button>\n",
              "      \n",
              "  <style>\n",
              "    .colab-df-container {\n",
              "      display:flex;\n",
              "      flex-wrap:wrap;\n",
              "      gap: 12px;\n",
              "    }\n",
              "\n",
              "    .colab-df-convert {\n",
              "      background-color: #E8F0FE;\n",
              "      border: none;\n",
              "      border-radius: 50%;\n",
              "      cursor: pointer;\n",
              "      display: none;\n",
              "      fill: #1967D2;\n",
              "      height: 32px;\n",
              "      padding: 0 0 0 0;\n",
              "      width: 32px;\n",
              "    }\n",
              "\n",
              "    .colab-df-convert:hover {\n",
              "      background-color: #E2EBFA;\n",
              "      box-shadow: 0px 1px 2px rgba(60, 64, 67, 0.3), 0px 1px 3px 1px rgba(60, 64, 67, 0.15);\n",
              "      fill: #174EA6;\n",
              "    }\n",
              "\n",
              "    [theme=dark] .colab-df-convert {\n",
              "      background-color: #3B4455;\n",
              "      fill: #D2E3FC;\n",
              "    }\n",
              "\n",
              "    [theme=dark] .colab-df-convert:hover {\n",
              "      background-color: #434B5C;\n",
              "      box-shadow: 0px 1px 3px 1px rgba(0, 0, 0, 0.15);\n",
              "      filter: drop-shadow(0px 1px 2px rgba(0, 0, 0, 0.3));\n",
              "      fill: #FFFFFF;\n",
              "    }\n",
              "  </style>\n",
              "\n",
              "      <script>\n",
              "        const buttonEl =\n",
              "          document.querySelector('#df-c610a05c-d475-4ac3-aab1-9f8c0af84cf4 button.colab-df-convert');\n",
              "        buttonEl.style.display =\n",
              "          google.colab.kernel.accessAllowed ? 'block' : 'none';\n",
              "\n",
              "        async function convertToInteractive(key) {\n",
              "          const element = document.querySelector('#df-c610a05c-d475-4ac3-aab1-9f8c0af84cf4');\n",
              "          const dataTable =\n",
              "            await google.colab.kernel.invokeFunction('convertToInteractive',\n",
              "                                                     [key], {});\n",
              "          if (!dataTable) return;\n",
              "\n",
              "          const docLinkHtml = 'Like what you see? Visit the ' +\n",
              "            '<a target=\"_blank\" href=https://colab.research.google.com/notebooks/data_table.ipynb>data table notebook</a>'\n",
              "            + ' to learn more about interactive tables.';\n",
              "          element.innerHTML = '';\n",
              "          dataTable['output_type'] = 'display_data';\n",
              "          await google.colab.output.renderOutput(dataTable, element);\n",
              "          const docLink = document.createElement('div');\n",
              "          docLink.innerHTML = docLinkHtml;\n",
              "          element.appendChild(docLink);\n",
              "        }\n",
              "      </script>\n",
              "    </div>\n",
              "  </div>\n",
              "  "
            ],
            "text/plain": [
              "    fips  Series_Complete_pct_2021_02  ...           state   Region\n",
              "0  17073                          2.2  ...        Illinois  Midwest\n",
              "1  22025                          0.7  ...       Louisiana    South\n",
              "2  41035                          2.4  ...          Oregon     West\n",
              "3  37173                          1.2  ...  North Carolina    South\n",
              "4  26145                          2.1  ...        Michigan  Midwest\n",
              "\n",
              "[5 rows x 22 columns]"
            ]
          },
          "metadata": {},
          "execution_count": 4
        }
      ]
    },
    {
      "cell_type": "markdown",
      "source": [
        "TRAIN-TEST SPLIT"
      ],
      "metadata": {
        "id": "xSadH9IKg-B3"
      }
    },
    {
      "cell_type": "code",
      "source": [
        "df_vaccine_county.dropna(axis=0, how='any', thresh=None, subset=None, inplace=False)\n",
        "df_vaccine_county = df_vaccine_county[~df_vaccine_county.isin([np.nan, np.inf, -np.inf]).any(1)]"
      ],
      "metadata": {
        "id": "Wyk2IoLUDw_2"
      },
      "execution_count": 26,
      "outputs": []
    },
    {
      "cell_type": "code",
      "source": [
        "X = df_vaccine_county.drop(['pct_trump_2020', 'County', 'st', 'state', 'Region'],  axis = 1)\n",
        "Y = df_vaccine_county['pct_trump_2020']"
      ],
      "metadata": {
        "id": "MoEunGhcg7uy"
      },
      "execution_count": 27,
      "outputs": []
    },
    {
      "cell_type": "code",
      "source": [
        "X_train, X_test, Y_train, Y_test = train_test_split(X, Y, test_size=0.3, random_state=101)"
      ],
      "metadata": {
        "id": "ZA7jTclMj1Ov"
      },
      "execution_count": 28,
      "outputs": []
    },
    {
      "cell_type": "markdown",
      "source": [
        "STANDARIZING DATA"
      ],
      "metadata": {
        "id": "G_Kc9IMqkhha"
      }
    },
    {
      "cell_type": "code",
      "source": [
        "scaler = StandardScaler()"
      ],
      "metadata": {
        "id": "nQP0OpVakT5R"
      },
      "execution_count": 29,
      "outputs": []
    },
    {
      "cell_type": "code",
      "source": [
        "scaler.fit(X_train)"
      ],
      "metadata": {
        "id": "nXgo732rkp_U",
        "outputId": "6e711dbd-5695-43a7-c1b3-d54e0ee90cd4",
        "colab": {
          "base_uri": "https://localhost:8080/"
        }
      },
      "execution_count": 30,
      "outputs": [
        {
          "output_type": "execute_result",
          "data": {
            "text/plain": [
              "StandardScaler()"
            ]
          },
          "metadata": {},
          "execution_count": 30
        }
      ]
    },
    {
      "cell_type": "code",
      "source": [
        "X_train_scaled = scaler.transform(X_train)\n",
        "X_test_scaled = scaler.transform(X_test)"
      ],
      "metadata": {
        "id": "z3gZkQv3mi8i"
      },
      "execution_count": 31,
      "outputs": []
    },
    {
      "cell_type": "markdown",
      "source": [
        "#Estimating Model"
      ],
      "metadata": {
        "id": "UnIfw9ZrDOHU"
      }
    },
    {
      "cell_type": "code",
      "source": [
        "from sklearn.linear_model import LinearRegression"
      ],
      "metadata": {
        "id": "fO9Kvwt_mpQQ"
      },
      "execution_count": 32,
      "outputs": []
    },
    {
      "cell_type": "code",
      "source": [
        "model_lm = LinearRegression()"
      ],
      "metadata": {
        "id": "Ehziq8sMDSJD"
      },
      "execution_count": 33,
      "outputs": []
    },
    {
      "cell_type": "code",
      "source": [
        "model_lm.fit(X_train_scaled, Y_train)"
      ],
      "metadata": {
        "colab": {
          "base_uri": "https://localhost:8080/"
        },
        "id": "6VO3IiybDV5e",
        "outputId": "e2bdd935-b7ae-4cd5-8ecf-db303a8799ce"
      },
      "execution_count": 34,
      "outputs": [
        {
          "output_type": "execute_result",
          "data": {
            "text/plain": [
              "LinearRegression()"
            ]
          },
          "metadata": {},
          "execution_count": 34
        }
      ]
    },
    {
      "cell_type": "code",
      "source": [
        "pred_train = model_lm.predict(X_train_scaled)\n",
        "plt.plot(pred_train, Y_train, 'o')"
      ],
      "metadata": {
        "id": "HfZ8a0uJFpci",
        "outputId": "b648ff4b-d4b5-4b91-d506-55a99468923e",
        "colab": {
          "base_uri": "https://localhost:8080/",
          "height": 286
        }
      },
      "execution_count": 38,
      "outputs": [
        {
          "output_type": "execute_result",
          "data": {
            "text/plain": [
              "[<matplotlib.lines.Line2D at 0x7fdfc37ec590>]"
            ]
          },
          "metadata": {},
          "execution_count": 38
        },
        {
          "output_type": "display_data",
          "data": {
            "image/png": "[encoded data removed]",
            "text/plain": [
              "<Figure size 432x288 with 1 Axes>"
            ]
          },
          "metadata": {
            "needs_background": "light"
          }
        }
      ]
    },
    {
      "cell_type": "markdown",
      "source": [
        "#Model Evaluations"
      ],
      "metadata": {
        "id": "QbOW7SpdGD4_"
      }
    },
    {
      "cell_type": "code",
      "source": [
        "from sklearn.metrics import mean_absolute_error, mean_squared_error"
      ],
      "metadata": {
        "id": "ArcxPgoTGCNF"
      },
      "execution_count": 39,
      "outputs": []
    },
    {
      "cell_type": "code",
      "source": [
        "pred_test = model_lm.predict(X_train_scaled)\n",
        "#Revisar\n",
        "#RMSE = np.sqrt(mean_squared_error(Y_test, pred_test))"
      ],
      "metadata": {
        "id": "f59C1oZdGPV7"
      },
      "execution_count": 47,
      "outputs": []
    },
    {
      "cell_type": "code",
      "source": [
        "test_error = Y_test - pred_test"
      ],
      "metadata": {
        "id": "FrDN-lLbHacy",
        "outputId": "ceee808e-189d-49b1-cbcf-bbeca59615bd",
        "colab": {
          "base_uri": "https://localhost:8080/",
          "height": 310
        }
      },
      "execution_count": 48,
      "outputs": [
        {
          "output_type": "error",
          "ename": "ValueError",
          "evalue": "ignored",
          "traceback": [
            "\u001b[0;31m---------------------------------------------------------------------------\u001b[0m",
            "\u001b[0;31mValueError\u001b[0m                                Traceback (most recent call last)",
            "\u001b[0;32m<ipython-input-48-cd6ed6adb8a8>\u001b[0m in \u001b[0;36m<module>\u001b[0;34m()\u001b[0m\n\u001b[0;32m----> 1\u001b[0;31m \u001b[0mtest_error\u001b[0m \u001b[0;34m=\u001b[0m \u001b[0mY_test\u001b[0m \u001b[0;34m-\u001b[0m \u001b[0mpred_test\u001b[0m\u001b[0;34m\u001b[0m\u001b[0;34m\u001b[0m\u001b[0m\n\u001b[0m",
            "\u001b[0;32m/usr/local/lib/python3.7/dist-packages/pandas/core/ops/common.py\u001b[0m in \u001b[0;36mnew_method\u001b[0;34m(self, other)\u001b[0m\n\u001b[1;32m     63\u001b[0m         \u001b[0mother\u001b[0m \u001b[0;34m=\u001b[0m \u001b[0mitem_from_zerodim\u001b[0m\u001b[0;34m(\u001b[0m\u001b[0mother\u001b[0m\u001b[0;34m)\u001b[0m\u001b[0;34m\u001b[0m\u001b[0;34m\u001b[0m\u001b[0m\n\u001b[1;32m     64\u001b[0m \u001b[0;34m\u001b[0m\u001b[0m\n\u001b[0;32m---> 65\u001b[0;31m         \u001b[0;32mreturn\u001b[0m \u001b[0mmethod\u001b[0m\u001b[0;34m(\u001b[0m\u001b[0mself\u001b[0m\u001b[0;34m,\u001b[0m \u001b[0mother\u001b[0m\u001b[0;34m)\u001b[0m\u001b[0;34m\u001b[0m\u001b[0;34m\u001b[0m\u001b[0m\n\u001b[0m\u001b[1;32m     66\u001b[0m \u001b[0;34m\u001b[0m\u001b[0m\n\u001b[1;32m     67\u001b[0m     \u001b[0;32mreturn\u001b[0m \u001b[0mnew_method\u001b[0m\u001b[0;34m\u001b[0m\u001b[0;34m\u001b[0m\u001b[0m\n",
            "\u001b[0;32m/usr/local/lib/python3.7/dist-packages/pandas/core/ops/__init__.py\u001b[0m in \u001b[0;36mwrapper\u001b[0;34m(left, right)\u001b[0m\n\u001b[1;32m    341\u001b[0m         \u001b[0mlvalues\u001b[0m \u001b[0;34m=\u001b[0m \u001b[0mextract_array\u001b[0m\u001b[0;34m(\u001b[0m\u001b[0mleft\u001b[0m\u001b[0;34m,\u001b[0m \u001b[0mextract_numpy\u001b[0m\u001b[0;34m=\u001b[0m\u001b[0;32mTrue\u001b[0m\u001b[0;34m)\u001b[0m\u001b[0;34m\u001b[0m\u001b[0;34m\u001b[0m\u001b[0m\n\u001b[1;32m    342\u001b[0m         \u001b[0mrvalues\u001b[0m \u001b[0;34m=\u001b[0m \u001b[0mextract_array\u001b[0m\u001b[0;34m(\u001b[0m\u001b[0mright\u001b[0m\u001b[0;34m,\u001b[0m \u001b[0mextract_numpy\u001b[0m\u001b[0;34m=\u001b[0m\u001b[0;32mTrue\u001b[0m\u001b[0;34m)\u001b[0m\u001b[0;34m\u001b[0m\u001b[0;34m\u001b[0m\u001b[0m\n\u001b[0;32m--> 343\u001b[0;31m         \u001b[0mresult\u001b[0m \u001b[0;34m=\u001b[0m \u001b[0marithmetic_op\u001b[0m\u001b[0;34m(\u001b[0m\u001b[0mlvalues\u001b[0m\u001b[0;34m,\u001b[0m \u001b[0mrvalues\u001b[0m\u001b[0;34m,\u001b[0m \u001b[0mop\u001b[0m\u001b[0;34m)\u001b[0m\u001b[0;34m\u001b[0m\u001b[0;34m\u001b[0m\u001b[0m\n\u001b[0m\u001b[1;32m    344\u001b[0m \u001b[0;34m\u001b[0m\u001b[0m\n\u001b[1;32m    345\u001b[0m         \u001b[0;32mreturn\u001b[0m \u001b[0mleft\u001b[0m\u001b[0;34m.\u001b[0m\u001b[0m_construct_result\u001b[0m\u001b[0;34m(\u001b[0m\u001b[0mresult\u001b[0m\u001b[0;34m,\u001b[0m \u001b[0mname\u001b[0m\u001b[0;34m=\u001b[0m\u001b[0mres_name\u001b[0m\u001b[0;34m)\u001b[0m\u001b[0;34m\u001b[0m\u001b[0;34m\u001b[0m\u001b[0m\n",
            "\u001b[0;32m/usr/local/lib/python3.7/dist-packages/pandas/core/ops/array_ops.py\u001b[0m in \u001b[0;36marithmetic_op\u001b[0;34m(left, right, op)\u001b[0m\n\u001b[1;32m    188\u001b[0m     \u001b[0;32melse\u001b[0m\u001b[0;34m:\u001b[0m\u001b[0;34m\u001b[0m\u001b[0;34m\u001b[0m\u001b[0m\n\u001b[1;32m    189\u001b[0m         \u001b[0;32mwith\u001b[0m \u001b[0mnp\u001b[0m\u001b[0;34m.\u001b[0m\u001b[0merrstate\u001b[0m\u001b[0;34m(\u001b[0m\u001b[0mall\u001b[0m\u001b[0;34m=\u001b[0m\u001b[0;34m\"ignore\"\u001b[0m\u001b[0;34m)\u001b[0m\u001b[0;34m:\u001b[0m\u001b[0;34m\u001b[0m\u001b[0;34m\u001b[0m\u001b[0m\n\u001b[0;32m--> 190\u001b[0;31m             \u001b[0mres_values\u001b[0m \u001b[0;34m=\u001b[0m \u001b[0mna_arithmetic_op\u001b[0m\u001b[0;34m(\u001b[0m\u001b[0mlvalues\u001b[0m\u001b[0;34m,\u001b[0m \u001b[0mrvalues\u001b[0m\u001b[0;34m,\u001b[0m \u001b[0mop\u001b[0m\u001b[0;34m)\u001b[0m\u001b[0;34m\u001b[0m\u001b[0;34m\u001b[0m\u001b[0m\n\u001b[0m\u001b[1;32m    191\u001b[0m \u001b[0;34m\u001b[0m\u001b[0m\n\u001b[1;32m    192\u001b[0m     \u001b[0;32mreturn\u001b[0m \u001b[0mres_values\u001b[0m\u001b[0;34m\u001b[0m\u001b[0;34m\u001b[0m\u001b[0m\n",
            "\u001b[0;32m/usr/local/lib/python3.7/dist-packages/pandas/core/ops/array_ops.py\u001b[0m in \u001b[0;36mna_arithmetic_op\u001b[0;34m(left, right, op, is_cmp)\u001b[0m\n\u001b[1;32m    141\u001b[0m \u001b[0;34m\u001b[0m\u001b[0m\n\u001b[1;32m    142\u001b[0m     \u001b[0;32mtry\u001b[0m\u001b[0;34m:\u001b[0m\u001b[0;34m\u001b[0m\u001b[0;34m\u001b[0m\u001b[0m\n\u001b[0;32m--> 143\u001b[0;31m         \u001b[0mresult\u001b[0m \u001b[0;34m=\u001b[0m \u001b[0mexpressions\u001b[0m\u001b[0;34m.\u001b[0m\u001b[0mevaluate\u001b[0m\u001b[0;34m(\u001b[0m\u001b[0mop\u001b[0m\u001b[0;34m,\u001b[0m \u001b[0mleft\u001b[0m\u001b[0;34m,\u001b[0m \u001b[0mright\u001b[0m\u001b[0;34m)\u001b[0m\u001b[0;34m\u001b[0m\u001b[0;34m\u001b[0m\u001b[0m\n\u001b[0m\u001b[1;32m    144\u001b[0m     \u001b[0;32mexcept\u001b[0m \u001b[0mTypeError\u001b[0m\u001b[0;34m:\u001b[0m\u001b[0;34m\u001b[0m\u001b[0;34m\u001b[0m\u001b[0m\n\u001b[1;32m    145\u001b[0m         \u001b[0;32mif\u001b[0m \u001b[0mis_cmp\u001b[0m\u001b[0;34m:\u001b[0m\u001b[0;34m\u001b[0m\u001b[0;34m\u001b[0m\u001b[0m\n",
            "\u001b[0;32m/usr/local/lib/python3.7/dist-packages/pandas/core/computation/expressions.py\u001b[0m in \u001b[0;36mevaluate\u001b[0;34m(op, a, b, use_numexpr)\u001b[0m\n\u001b[1;32m    231\u001b[0m         \u001b[0muse_numexpr\u001b[0m \u001b[0;34m=\u001b[0m \u001b[0muse_numexpr\u001b[0m \u001b[0;32mand\u001b[0m \u001b[0m_bool_arith_check\u001b[0m\u001b[0;34m(\u001b[0m\u001b[0mop_str\u001b[0m\u001b[0;34m,\u001b[0m \u001b[0ma\u001b[0m\u001b[0;34m,\u001b[0m \u001b[0mb\u001b[0m\u001b[0;34m)\u001b[0m\u001b[0;34m\u001b[0m\u001b[0;34m\u001b[0m\u001b[0m\n\u001b[1;32m    232\u001b[0m         \u001b[0;32mif\u001b[0m \u001b[0muse_numexpr\u001b[0m\u001b[0;34m:\u001b[0m\u001b[0;34m\u001b[0m\u001b[0;34m\u001b[0m\u001b[0m\n\u001b[0;32m--> 233\u001b[0;31m             \u001b[0;32mreturn\u001b[0m \u001b[0m_evaluate\u001b[0m\u001b[0;34m(\u001b[0m\u001b[0mop\u001b[0m\u001b[0;34m,\u001b[0m \u001b[0mop_str\u001b[0m\u001b[0;34m,\u001b[0m \u001b[0ma\u001b[0m\u001b[0;34m,\u001b[0m \u001b[0mb\u001b[0m\u001b[0;34m)\u001b[0m  \u001b[0;31m# type: ignore\u001b[0m\u001b[0;34m\u001b[0m\u001b[0;34m\u001b[0m\u001b[0m\n\u001b[0m\u001b[1;32m    234\u001b[0m     \u001b[0;32mreturn\u001b[0m \u001b[0m_evaluate_standard\u001b[0m\u001b[0;34m(\u001b[0m\u001b[0mop\u001b[0m\u001b[0;34m,\u001b[0m \u001b[0mop_str\u001b[0m\u001b[0;34m,\u001b[0m \u001b[0ma\u001b[0m\u001b[0;34m,\u001b[0m \u001b[0mb\u001b[0m\u001b[0;34m)\u001b[0m\u001b[0;34m\u001b[0m\u001b[0;34m\u001b[0m\u001b[0m\n\u001b[1;32m    235\u001b[0m \u001b[0;34m\u001b[0m\u001b[0m\n",
            "\u001b[0;32m/usr/local/lib/python3.7/dist-packages/pandas/core/computation/expressions.py\u001b[0m in \u001b[0;36m_evaluate_numexpr\u001b[0;34m(op, op_str, a, b)\u001b[0m\n\u001b[1;32m    117\u001b[0m \u001b[0;34m\u001b[0m\u001b[0m\n\u001b[1;32m    118\u001b[0m     \u001b[0;32mif\u001b[0m \u001b[0mresult\u001b[0m \u001b[0;32mis\u001b[0m \u001b[0;32mNone\u001b[0m\u001b[0;34m:\u001b[0m\u001b[0;34m\u001b[0m\u001b[0;34m\u001b[0m\u001b[0m\n\u001b[0;32m--> 119\u001b[0;31m         \u001b[0mresult\u001b[0m \u001b[0;34m=\u001b[0m \u001b[0m_evaluate_standard\u001b[0m\u001b[0;34m(\u001b[0m\u001b[0mop\u001b[0m\u001b[0;34m,\u001b[0m \u001b[0mop_str\u001b[0m\u001b[0;34m,\u001b[0m \u001b[0ma\u001b[0m\u001b[0;34m,\u001b[0m \u001b[0mb\u001b[0m\u001b[0;34m)\u001b[0m\u001b[0;34m\u001b[0m\u001b[0;34m\u001b[0m\u001b[0m\n\u001b[0m\u001b[1;32m    120\u001b[0m \u001b[0;34m\u001b[0m\u001b[0m\n\u001b[1;32m    121\u001b[0m     \u001b[0;32mreturn\u001b[0m \u001b[0mresult\u001b[0m\u001b[0;34m\u001b[0m\u001b[0;34m\u001b[0m\u001b[0m\n",
            "\u001b[0;32m/usr/local/lib/python3.7/dist-packages/pandas/core/computation/expressions.py\u001b[0m in \u001b[0;36m_evaluate_standard\u001b[0;34m(op, op_str, a, b)\u001b[0m\n\u001b[1;32m     66\u001b[0m         \u001b[0m_store_test_result\u001b[0m\u001b[0;34m(\u001b[0m\u001b[0;32mFalse\u001b[0m\u001b[0;34m)\u001b[0m\u001b[0;34m\u001b[0m\u001b[0;34m\u001b[0m\u001b[0m\n\u001b[1;32m     67\u001b[0m     \u001b[0;32mwith\u001b[0m \u001b[0mnp\u001b[0m\u001b[0;34m.\u001b[0m\u001b[0merrstate\u001b[0m\u001b[0;34m(\u001b[0m\u001b[0mall\u001b[0m\u001b[0;34m=\u001b[0m\u001b[0;34m\"ignore\"\u001b[0m\u001b[0;34m)\u001b[0m\u001b[0;34m:\u001b[0m\u001b[0;34m\u001b[0m\u001b[0;34m\u001b[0m\u001b[0m\n\u001b[0;32m---> 68\u001b[0;31m         \u001b[0;32mreturn\u001b[0m \u001b[0mop\u001b[0m\u001b[0;34m(\u001b[0m\u001b[0ma\u001b[0m\u001b[0;34m,\u001b[0m \u001b[0mb\u001b[0m\u001b[0;34m)\u001b[0m\u001b[0;34m\u001b[0m\u001b[0;34m\u001b[0m\u001b[0m\n\u001b[0m\u001b[1;32m     69\u001b[0m \u001b[0;34m\u001b[0m\u001b[0m\n\u001b[1;32m     70\u001b[0m \u001b[0;34m\u001b[0m\u001b[0m\n",
            "\u001b[0;31mValueError\u001b[0m: operands could not be broadcast together with shapes (927,) (2160,) "
          ]
        }
      ]
    },
    {
      "cell_type": "markdown",
      "source": [
        "Función a revisar "
      ],
      "metadata": {
        "id": "0or-c4j0ka7U"
      }
    },
    {
      "cell_type": "code",
      "source": [
        "def estimate_model(mth):\n",
        "  ## do domething\n",
        "  df_out = pd.DataFrame([model.coef_], columns= X.columns, index = [0])\n",
        "  df_out['rmse'] = rmse\n",
        "  return(df_out)"
      ],
      "metadata": {
        "id": "XvnMbY1HzwpD"
      },
      "execution_count": 10,
      "outputs": []
    },
    {
      "cell_type": "markdown",
      "source": [
        "# LASSO regression (8 percent)\n",
        "\n",
        "- Now repeat the previous steps with `LassoCV`. How the result look like? Which variables are consistently strong predictors? Which variables are getting relevant/irrelevant in predicting vaccination take-up rate?"
      ],
      "metadata": {
        "id": "TcsXcTQW09q9"
      }
    },
    {
      "cell_type": "code",
      "source": [
        "from sklearn.linear_model import LassoCV"
      ],
      "metadata": {
        "id": "bHhzSwEEUj1Z"
      },
      "execution_count": 11,
      "outputs": []
    }
  ]
}