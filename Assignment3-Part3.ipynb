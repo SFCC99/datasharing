{
  "nbformat": 4,
  "nbformat_minor": 0,
  "metadata": {
    "colab": {
      "name": "Assignment3-Part3.ipynb",
      "provenance": [],
      "collapsed_sections": []
    },
    "kernelspec": {
      "name": "python3",
      "display_name": "Python 3"
    }
  },
  "cells": [
    {
      "cell_type": "markdown",
      "metadata": {
        "id": "2Mi8GRhykPHI"
      },
      "source": [
        "# Instruction\n",
        "\n",
        "In this part of the assignment, you will prepare the data to analyze the \"meaningful votes\" for the European Union Withdrawal Agreement and carry out a classification task. \n",
        "\n",
        "There were three attempts to pass a version of the withdrawal agreement (formed late 2018) in the House of Commons, but in all three attempts, the government led by Prime Minister Theresa May failed to pass. The failures were due to the large number of rebels among Conservative MPs. \n",
        "\n",
        "If you are not familiar with the story about it you can rely on the following sources:\n",
        "\n",
        "- Aidt, T., Grey, F. & Savu, A. The Meaningful Votes: Voting on Brexit in the British House of Commons. *Public Choice* (2019).\n",
        "  - https://link.springer.com/article/10.1007/s11127-019-00762-9\n",
        "  - An academic article to analyze the situation\n",
        "  - The analysis is similar to what you will do\n",
        "- Wikipedia:\n",
        "  - https://en.wikipedia.org/wiki/Parliamentary_votes_on_Brexit\n"
      ]
    },
    {
      "cell_type": "markdown",
      "metadata": {
        "id": "KJUfdW9YmIVT"
      },
      "source": [
        "\n",
        "There are three meaningful votes (see the links above) and the results are accessibe from here:\n",
        "\n",
        "- Vote1: https://votes.parliament.uk/Votes/Commons/Division/562\n",
        "- Vote2: https://votes.parliament.uk/Votes/Commons/Division/623\n",
        "- Vote3: https://votes.parliament.uk/Votes/Commons/Division/664\n",
        "\n",
        "I compiled the results of three meaningful votes, along with the [Revoke Article 50 and remain in the EU petition](https://petition.parliament.uk/archived/petitions/241584) (from Assignment 2), in a csv file."
      ]
    },
    {
      "cell_type": "markdown",
      "source": [
        "## Your task\n",
        "\n",
        "1. Get other datasets and merge them with the voting record data\n",
        "2. Complete a machine learning task to predict rebels among Conservative MPs\n"
      ],
      "metadata": {
        "id": "yEutMbXsFtZg"
      }
    },
    {
      "cell_type": "code",
      "metadata": {
        "id": "8EtaRsQMGMCl"
      },
      "source": [
        "import numpy as np\n",
        "import pandas as pd\n"
      ],
      "execution_count": 1,
      "outputs": []
    },
    {
      "cell_type": "code",
      "source": [
        "import matplotlib.pyplot as plt\n",
        "import seaborn as sns"
      ],
      "metadata": {
        "id": "W-3gL_1454Ni"
      },
      "execution_count": 2,
      "outputs": []
    },
    {
      "cell_type": "markdown",
      "metadata": {
        "id": "DWKZ5H-XGcNm"
      },
      "source": [
        "# Get the main data from the GV918 data repository (4 percent)\n",
        "\n",
        "Get the data hosted on:\n",
        "https://github.com/University-of-Essex-Dept-of-Government/GV918-UK-politics-data\n",
        "\n",
        "- The parliamnetary votes as well as the petition outcomes are in `df_meaningful_vote.csv`\n"
      ]
    },
    {
      "cell_type": "code",
      "metadata": {
        "id": "mg8tiB8Rn9Hx",
        "outputId": "053dc767-8cf0-4bdc-f744-2a1f818af22f",
        "colab": {
          "base_uri": "https://localhost:8080/"
        }
      },
      "source": [
        "!git clone https://github.com/University-of-Essex-Dept-of-Government/GV918-UK-politics-data"
      ],
      "execution_count": 3,
      "outputs": [
        {
          "output_type": "stream",
          "name": "stdout",
          "text": [
            "fatal: destination path 'GV918-UK-politics-data' already exists and is not an empty directory.\n"
          ]
        }
      ]
    },
    {
      "cell_type": "code",
      "source": [
        "df_meaningful_vote = pd.read_csv(\"/content/GV918-UK-politics-data/Data/df_meaningful_vote.csv\")"
      ],
      "metadata": {
        "id": "4FU83CXRmoqb"
      },
      "execution_count": 4,
      "outputs": []
    },
    {
      "cell_type": "code",
      "source": [
        "df_meaningful_vote.head()"
      ],
      "metadata": {
        "id": "aAl8A3Sfm1aU",
        "outputId": "ea26561c-4020-4548-ef44-93f51d614a95",
        "colab": {
          "base_uri": "https://localhost:8080/",
          "height": 206
        }
      },
      "execution_count": 5,
      "outputs": [
        {
          "output_type": "execute_result",
          "data": {
            "text/html": [
              "\n",
              "  <div id=\"df-84f0a5a0-5516-4a8c-ade1-22d34329963d\">\n",
              "    <div class=\"colab-df-container\">\n",
              "      <div>\n",
              "<style scoped>\n",
              "    .dataframe tbody tr th:only-of-type {\n",
              "        vertical-align: middle;\n",
              "    }\n",
              "\n",
              "    .dataframe tbody tr th {\n",
              "        vertical-align: top;\n",
              "    }\n",
              "\n",
              "    .dataframe thead th {\n",
              "        text-align: right;\n",
              "    }\n",
              "</style>\n",
              "<table border=\"1\" class=\"dataframe\">\n",
              "  <thead>\n",
              "    <tr style=\"text-align: right;\">\n",
              "      <th></th>\n",
              "      <th>index</th>\n",
              "      <th>MemberId</th>\n",
              "      <th>Name</th>\n",
              "      <th>Party</th>\n",
              "      <th>MemberFrom</th>\n",
              "      <th>vote1</th>\n",
              "      <th>vote2</th>\n",
              "      <th>vote3</th>\n",
              "      <th>ons_code</th>\n",
              "      <th>signature_count_241584</th>\n",
              "    </tr>\n",
              "  </thead>\n",
              "  <tbody>\n",
              "    <tr>\n",
              "      <th>0</th>\n",
              "      <td>0</td>\n",
              "      <td>8</td>\n",
              "      <td>Theresa May</td>\n",
              "      <td>Conservative</td>\n",
              "      <td>Maidenhead</td>\n",
              "      <td>1.0</td>\n",
              "      <td>1.0</td>\n",
              "      <td>1.0</td>\n",
              "      <td>E14000803</td>\n",
              "      <td>13559</td>\n",
              "    </tr>\n",
              "    <tr>\n",
              "      <th>1</th>\n",
              "      <td>1</td>\n",
              "      <td>15</td>\n",
              "      <td>David Lidington</td>\n",
              "      <td>Conservative</td>\n",
              "      <td>Aylesbury</td>\n",
              "      <td>1.0</td>\n",
              "      <td>1.0</td>\n",
              "      <td>1.0</td>\n",
              "      <td>E14000538</td>\n",
              "      <td>10129</td>\n",
              "    </tr>\n",
              "    <tr>\n",
              "      <th>2</th>\n",
              "      <td>2</td>\n",
              "      <td>18</td>\n",
              "      <td>Cheryl Gillan</td>\n",
              "      <td>Conservative</td>\n",
              "      <td>Chesham and Amersham</td>\n",
              "      <td>1.0</td>\n",
              "      <td>1.0</td>\n",
              "      <td>1.0</td>\n",
              "      <td>E14000631</td>\n",
              "      <td>13543</td>\n",
              "    </tr>\n",
              "    <tr>\n",
              "      <th>3</th>\n",
              "      <td>3</td>\n",
              "      <td>55</td>\n",
              "      <td>Desmond Swayne</td>\n",
              "      <td>Conservative</td>\n",
              "      <td>New Forest West</td>\n",
              "      <td>1.0</td>\n",
              "      <td>1.0</td>\n",
              "      <td>1.0</td>\n",
              "      <td>E14000828</td>\n",
              "      <td>7920</td>\n",
              "    </tr>\n",
              "    <tr>\n",
              "      <th>4</th>\n",
              "      <td>4</td>\n",
              "      <td>69</td>\n",
              "      <td>Oliver Heald</td>\n",
              "      <td>Conservative</td>\n",
              "      <td>North East Hertfordshire</td>\n",
              "      <td>1.0</td>\n",
              "      <td>1.0</td>\n",
              "      <td>1.0</td>\n",
              "      <td>E14000845</td>\n",
              "      <td>10974</td>\n",
              "    </tr>\n",
              "  </tbody>\n",
              "</table>\n",
              "</div>\n",
              "      <button class=\"colab-df-convert\" onclick=\"convertToInteractive('df-84f0a5a0-5516-4a8c-ade1-22d34329963d')\"\n",
              "              title=\"Convert this dataframe to an interactive table.\"\n",
              "              style=\"display:none;\">\n",
              "        \n",
              "  <svg xmlns=\"http://www.w3.org/2000/svg\" height=\"24px\"viewBox=\"0 0 24 24\"\n",
              "       width=\"24px\">\n",
              "    <path d=\"M0 0h24v24H0V0z\" fill=\"none\"/>\n",
              "    <path d=\"M18.56 5.44l.94 2.06.94-2.06 2.06-.94-2.06-.94-.94-2.06-.94 2.06-2.06.94zm-11 1L8.5 8.5l.94-2.06 2.06-.94-2.06-.94L8.5 2.5l-.94 2.06-2.06.94zm10 10l.94 2.06.94-2.06 2.06-.94-2.06-.94-.94-2.06-.94 2.06-2.06.94z\"/><path d=\"M17.41 7.96l-1.37-1.37c-.4-.4-.92-.59-1.43-.59-.52 0-1.04.2-1.43.59L10.3 9.45l-7.72 7.72c-.78.78-.78 2.05 0 2.83L4 21.41c.39.39.9.59 1.41.59.51 0 1.02-.2 1.41-.59l7.78-7.78 2.81-2.81c.8-.78.8-2.07 0-2.86zM5.41 20L4 18.59l7.72-7.72 1.47 1.35L5.41 20z\"/>\n",
              "  </svg>\n",
              "      </button>\n",
              "      \n",
              "  <style>\n",
              "    .colab-df-container {\n",
              "      display:flex;\n",
              "      flex-wrap:wrap;\n",
              "      gap: 12px;\n",
              "    }\n",
              "\n",
              "    .colab-df-convert {\n",
              "      background-color: #E8F0FE;\n",
              "      border: none;\n",
              "      border-radius: 50%;\n",
              "      cursor: pointer;\n",
              "      display: none;\n",
              "      fill: #1967D2;\n",
              "      height: 32px;\n",
              "      padding: 0 0 0 0;\n",
              "      width: 32px;\n",
              "    }\n",
              "\n",
              "    .colab-df-convert:hover {\n",
              "      background-color: #E2EBFA;\n",
              "      box-shadow: 0px 1px 2px rgba(60, 64, 67, 0.3), 0px 1px 3px 1px rgba(60, 64, 67, 0.15);\n",
              "      fill: #174EA6;\n",
              "    }\n",
              "\n",
              "    [theme=dark] .colab-df-convert {\n",
              "      background-color: #3B4455;\n",
              "      fill: #D2E3FC;\n",
              "    }\n",
              "\n",
              "    [theme=dark] .colab-df-convert:hover {\n",
              "      background-color: #434B5C;\n",
              "      box-shadow: 0px 1px 3px 1px rgba(0, 0, 0, 0.15);\n",
              "      filter: drop-shadow(0px 1px 2px rgba(0, 0, 0, 0.3));\n",
              "      fill: #FFFFFF;\n",
              "    }\n",
              "  </style>\n",
              "\n",
              "      <script>\n",
              "        const buttonEl =\n",
              "          document.querySelector('#df-84f0a5a0-5516-4a8c-ade1-22d34329963d button.colab-df-convert');\n",
              "        buttonEl.style.display =\n",
              "          google.colab.kernel.accessAllowed ? 'block' : 'none';\n",
              "\n",
              "        async function convertToInteractive(key) {\n",
              "          const element = document.querySelector('#df-84f0a5a0-5516-4a8c-ade1-22d34329963d');\n",
              "          const dataTable =\n",
              "            await google.colab.kernel.invokeFunction('convertToInteractive',\n",
              "                                                     [key], {});\n",
              "          if (!dataTable) return;\n",
              "\n",
              "          const docLinkHtml = 'Like what you see? Visit the ' +\n",
              "            '<a target=\"_blank\" href=https://colab.research.google.com/notebooks/data_table.ipynb>data table notebook</a>'\n",
              "            + ' to learn more about interactive tables.';\n",
              "          element.innerHTML = '';\n",
              "          dataTable['output_type'] = 'display_data';\n",
              "          await google.colab.output.renderOutput(dataTable, element);\n",
              "          const docLink = document.createElement('div');\n",
              "          docLink.innerHTML = docLinkHtml;\n",
              "          element.appendChild(docLink);\n",
              "        }\n",
              "      </script>\n",
              "    </div>\n",
              "  </div>\n",
              "  "
            ],
            "text/plain": [
              "   index  MemberId             Name  ... vote3   ons_code  signature_count_241584\n",
              "0      0         8      Theresa May  ...   1.0  E14000803                   13559\n",
              "1      1        15  David Lidington  ...   1.0  E14000538                   10129\n",
              "2      2        18    Cheryl Gillan  ...   1.0  E14000631                   13543\n",
              "3      3        55   Desmond Swayne  ...   1.0  E14000828                    7920\n",
              "4      4        69     Oliver Heald  ...   1.0  E14000845                   10974\n",
              "\n",
              "[5 rows x 10 columns]"
            ]
          },
          "metadata": {},
          "execution_count": 5
        }
      ]
    },
    {
      "cell_type": "markdown",
      "metadata": {
        "id": "DIdd2_-iHvXG"
      },
      "source": [
        "# Other data sources \n",
        "\n",
        "In this section, you will get the data from several sources and merge them with the main dataframe. \n",
        "\n"
      ]
    },
    {
      "cell_type": "markdown",
      "metadata": {
        "id": "2lfPe52NIJ6D"
      },
      "source": [
        "## Referendum votes, general election data (3 percent)\n",
        "\n",
        "In this section you will merge two additoional datasets. \n",
        "\n",
        "1. Election outcomes of 2017 (You can use the code below)\n",
        "2. Constituency level referendum output (We used this data in the previous class)\n",
        "\n",
        "Once you merge, create a new variable pf the number of petition signatures per electorate."
      ]
    },
    {
      "cell_type": "code",
      "metadata": {
        "id": "8R1prvnIIMqD"
      },
      "source": [
        "df_elec = pd.read_csv(\"http://researchbriefings.files.parliament.uk/documents/CBP-7979/HoC-GE2017-results-by-candidate.csv\")\n",
        "df_const = pd.read_csv(\"http://researchbriefings.files.parliament.uk/documents/CBP-7979/HoC-GE2017-constituency-results.csv\")\n",
        "df_const = df_const[['ons_id', 'electorate']]\n",
        "\n",
        "df_merging_elec_const = pd.merge(df_const, df_elec)\n"
      ],
      "execution_count": 6,
      "outputs": []
    },
    {
      "cell_type": "code",
      "source": [
        "df_merging_elec_const.rename(({'ons_id':'ons_code'}), axis = 1, inplace=True)\n",
        "df_merging_elec_const.head()\n",
        "df_columns_to_merge_1 = df_meaningful_vote.drop('ons_code', axis = 1)\n",
        "df_columns_to_merge_2 = df_meaningful_vote.drop('signature_count_241584', axis = 1)\n",
        "df_columns_to_merge_def = pd.merge(df_columns_to_merge_1, df_columns_to_merge_2)\n",
        "\n",
        "df_1_merge = pd.merge(df_merging_elec_const, df_columns_to_merge_def)"
      ],
      "metadata": {
        "id": "hJpQ4ANMnb4C"
      },
      "execution_count": 7,
      "outputs": []
    },
    {
      "cell_type": "markdown",
      "metadata": {
        "id": "7CD_rCjxcpqs"
      },
      "source": [
        "## 3. MPs positions data (3 percent)\n",
        "\n",
        "The last dataset to merge is MPs position for Brexit referendum. The data is coming from Aidt et al (2019) paper."
      ]
    },
    {
      "cell_type": "code",
      "metadata": {
        "id": "LVen3M9TYXHH",
        "colab": {
          "base_uri": "https://localhost:8080/",
          "height": 206
        },
        "outputId": "bcc18311-2a37-46df-e89b-1c554635661c"
      },
      "source": [
        "df_mp_positions = pd.read_csv(\"/content/GV918-UK-politics-data/Data/mp_positions-cleaned.csv\")\n",
        "df_mp_positions.head()"
      ],
      "execution_count": 8,
      "outputs": [
        {
          "output_type": "execute_result",
          "data": {
            "text/html": [
              "\n",
              "  <div id=\"df-7affeaaa-55e5-43d0-b70c-56e6b1e142f4\">\n",
              "    <div class=\"colab-df-container\">\n",
              "      <div>\n",
              "<style scoped>\n",
              "    .dataframe tbody tr th:only-of-type {\n",
              "        vertical-align: middle;\n",
              "    }\n",
              "\n",
              "    .dataframe tbody tr th {\n",
              "        vertical-align: top;\n",
              "    }\n",
              "\n",
              "    .dataframe thead th {\n",
              "        text-align: right;\n",
              "    }\n",
              "</style>\n",
              "<table border=\"1\" class=\"dataframe\">\n",
              "  <thead>\n",
              "    <tr style=\"text-align: right;\">\n",
              "      <th></th>\n",
              "      <th>Party</th>\n",
              "      <th>Name</th>\n",
              "      <th>MP vote for Brexit</th>\n",
              "      <th>Constituency</th>\n",
              "    </tr>\n",
              "  </thead>\n",
              "  <tbody>\n",
              "    <tr>\n",
              "      <th>0</th>\n",
              "      <td>Con</td>\n",
              "      <td>Nigel Adams</td>\n",
              "      <td>Leave</td>\n",
              "      <td>Selby and Ainsty</td>\n",
              "    </tr>\n",
              "    <tr>\n",
              "      <th>1</th>\n",
              "      <td>Con</td>\n",
              "      <td>Bim Afolami</td>\n",
              "      <td>Remain</td>\n",
              "      <td>Hitchin and Harpenden</td>\n",
              "    </tr>\n",
              "    <tr>\n",
              "      <th>2</th>\n",
              "      <td>Con</td>\n",
              "      <td>Stuart Andrew</td>\n",
              "      <td>Leave</td>\n",
              "      <td>Pudsey</td>\n",
              "    </tr>\n",
              "    <tr>\n",
              "      <th>3</th>\n",
              "      <td>Con</td>\n",
              "      <td>Edward Argar</td>\n",
              "      <td>Remain</td>\n",
              "      <td>Charnwood</td>\n",
              "    </tr>\n",
              "    <tr>\n",
              "      <th>4</th>\n",
              "      <td>Con</td>\n",
              "      <td>Victoria Atkins</td>\n",
              "      <td>Remain</td>\n",
              "      <td>Louth and Horncastle</td>\n",
              "    </tr>\n",
              "  </tbody>\n",
              "</table>\n",
              "</div>\n",
              "      <button class=\"colab-df-convert\" onclick=\"convertToInteractive('df-7affeaaa-55e5-43d0-b70c-56e6b1e142f4')\"\n",
              "              title=\"Convert this dataframe to an interactive table.\"\n",
              "              style=\"display:none;\">\n",
              "        \n",
              "  <svg xmlns=\"http://www.w3.org/2000/svg\" height=\"24px\"viewBox=\"0 0 24 24\"\n",
              "       width=\"24px\">\n",
              "    <path d=\"M0 0h24v24H0V0z\" fill=\"none\"/>\n",
              "    <path d=\"M18.56 5.44l.94 2.06.94-2.06 2.06-.94-2.06-.94-.94-2.06-.94 2.06-2.06.94zm-11 1L8.5 8.5l.94-2.06 2.06-.94-2.06-.94L8.5 2.5l-.94 2.06-2.06.94zm10 10l.94 2.06.94-2.06 2.06-.94-2.06-.94-.94-2.06-.94 2.06-2.06.94z\"/><path d=\"M17.41 7.96l-1.37-1.37c-.4-.4-.92-.59-1.43-.59-.52 0-1.04.2-1.43.59L10.3 9.45l-7.72 7.72c-.78.78-.78 2.05 0 2.83L4 21.41c.39.39.9.59 1.41.59.51 0 1.02-.2 1.41-.59l7.78-7.78 2.81-2.81c.8-.78.8-2.07 0-2.86zM5.41 20L4 18.59l7.72-7.72 1.47 1.35L5.41 20z\"/>\n",
              "  </svg>\n",
              "      </button>\n",
              "      \n",
              "  <style>\n",
              "    .colab-df-container {\n",
              "      display:flex;\n",
              "      flex-wrap:wrap;\n",
              "      gap: 12px;\n",
              "    }\n",
              "\n",
              "    .colab-df-convert {\n",
              "      background-color: #E8F0FE;\n",
              "      border: none;\n",
              "      border-radius: 50%;\n",
              "      cursor: pointer;\n",
              "      display: none;\n",
              "      fill: #1967D2;\n",
              "      height: 32px;\n",
              "      padding: 0 0 0 0;\n",
              "      width: 32px;\n",
              "    }\n",
              "\n",
              "    .colab-df-convert:hover {\n",
              "      background-color: #E2EBFA;\n",
              "      box-shadow: 0px 1px 2px rgba(60, 64, 67, 0.3), 0px 1px 3px 1px rgba(60, 64, 67, 0.15);\n",
              "      fill: #174EA6;\n",
              "    }\n",
              "\n",
              "    [theme=dark] .colab-df-convert {\n",
              "      background-color: #3B4455;\n",
              "      fill: #D2E3FC;\n",
              "    }\n",
              "\n",
              "    [theme=dark] .colab-df-convert:hover {\n",
              "      background-color: #434B5C;\n",
              "      box-shadow: 0px 1px 3px 1px rgba(0, 0, 0, 0.15);\n",
              "      filter: drop-shadow(0px 1px 2px rgba(0, 0, 0, 0.3));\n",
              "      fill: #FFFFFF;\n",
              "    }\n",
              "  </style>\n",
              "\n",
              "      <script>\n",
              "        const buttonEl =\n",
              "          document.querySelector('#df-7affeaaa-55e5-43d0-b70c-56e6b1e142f4 button.colab-df-convert');\n",
              "        buttonEl.style.display =\n",
              "          google.colab.kernel.accessAllowed ? 'block' : 'none';\n",
              "\n",
              "        async function convertToInteractive(key) {\n",
              "          const element = document.querySelector('#df-7affeaaa-55e5-43d0-b70c-56e6b1e142f4');\n",
              "          const dataTable =\n",
              "            await google.colab.kernel.invokeFunction('convertToInteractive',\n",
              "                                                     [key], {});\n",
              "          if (!dataTable) return;\n",
              "\n",
              "          const docLinkHtml = 'Like what you see? Visit the ' +\n",
              "            '<a target=\"_blank\" href=https://colab.research.google.com/notebooks/data_table.ipynb>data table notebook</a>'\n",
              "            + ' to learn more about interactive tables.';\n",
              "          element.innerHTML = '';\n",
              "          dataTable['output_type'] = 'display_data';\n",
              "          await google.colab.output.renderOutput(dataTable, element);\n",
              "          const docLink = document.createElement('div');\n",
              "          docLink.innerHTML = docLinkHtml;\n",
              "          element.appendChild(docLink);\n",
              "        }\n",
              "      </script>\n",
              "    </div>\n",
              "  </div>\n",
              "  "
            ],
            "text/plain": [
              "  Party             Name MP vote for Brexit           Constituency\n",
              "0   Con      Nigel Adams              Leave       Selby and Ainsty\n",
              "1   Con      Bim Afolami             Remain  Hitchin and Harpenden\n",
              "2   Con    Stuart Andrew              Leave                 Pudsey\n",
              "3   Con     Edward Argar             Remain              Charnwood\n",
              "4   Con  Victoria Atkins             Remain   Louth and Horncastle"
            ]
          },
          "metadata": {},
          "execution_count": 8
        }
      ]
    },
    {
      "cell_type": "code",
      "source": [
        "df_mp_positions.rename(({'Party': 'party_abbreviation'}), axis = 1, inplace=True)\n",
        "df_mp_positions\n",
        "df_main_dataset = pd.merge(df_mp_positions, df_1_merge)\n",
        "                        \n",
        "df_main_dataset.dropna(axis=0, how='any', thresh=None, subset=None, inplace=False)\n",
        "df_main_dataset"
      ],
      "metadata": {
        "id": "YYvPD7VB2qfC",
        "outputId": "e2b59437-b8e2-476e-de47-5d8ef9747056",
        "colab": {
          "base_uri": "https://localhost:8080/",
          "height": 782
        }
      },
      "execution_count": 9,
      "outputs": [
        {
          "output_type": "execute_result",
          "data": {
            "text/html": [
              "\n",
              "  <div id=\"df-4f238c58-5df1-4c1a-9193-4a6bdb0099e9\">\n",
              "    <div class=\"colab-df-container\">\n",
              "      <div>\n",
              "<style scoped>\n",
              "    .dataframe tbody tr th:only-of-type {\n",
              "        vertical-align: middle;\n",
              "    }\n",
              "\n",
              "    .dataframe tbody tr th {\n",
              "        vertical-align: top;\n",
              "    }\n",
              "\n",
              "    .dataframe thead th {\n",
              "        text-align: right;\n",
              "    }\n",
              "</style>\n",
              "<table border=\"1\" class=\"dataframe\">\n",
              "  <thead>\n",
              "    <tr style=\"text-align: right;\">\n",
              "      <th></th>\n",
              "      <th>party_abbreviation</th>\n",
              "      <th>Name</th>\n",
              "      <th>MP vote for Brexit</th>\n",
              "      <th>Constituency</th>\n",
              "      <th>ons_code</th>\n",
              "      <th>electorate</th>\n",
              "      <th>ons_region_id</th>\n",
              "      <th>constituency_name</th>\n",
              "      <th>county_name</th>\n",
              "      <th>region_name</th>\n",
              "      <th>country_name</th>\n",
              "      <th>constituency_type</th>\n",
              "      <th>party_name</th>\n",
              "      <th>firstname</th>\n",
              "      <th>surname</th>\n",
              "      <th>gender</th>\n",
              "      <th>sitting_mp</th>\n",
              "      <th>former_mp</th>\n",
              "      <th>votes</th>\n",
              "      <th>share</th>\n",
              "      <th>change</th>\n",
              "      <th>index</th>\n",
              "      <th>MemberId</th>\n",
              "      <th>Party</th>\n",
              "      <th>MemberFrom</th>\n",
              "      <th>vote1</th>\n",
              "      <th>vote2</th>\n",
              "      <th>vote3</th>\n",
              "      <th>signature_count_241584</th>\n",
              "    </tr>\n",
              "  </thead>\n",
              "  <tbody>\n",
              "    <tr>\n",
              "      <th>0</th>\n",
              "      <td>Con</td>\n",
              "      <td>Nigel Adams</td>\n",
              "      <td>Leave</td>\n",
              "      <td>Selby and Ainsty</td>\n",
              "      <td>E14000917</td>\n",
              "      <td>75918</td>\n",
              "      <td>E12000003</td>\n",
              "      <td>Selby and Ainsty</td>\n",
              "      <td>North Yorkshire</td>\n",
              "      <td>Yorkshire and The Humber</td>\n",
              "      <td>England</td>\n",
              "      <td>County</td>\n",
              "      <td>Conservative</td>\n",
              "      <td>Nigel</td>\n",
              "      <td>Adams</td>\n",
              "      <td>Male</td>\n",
              "      <td>Yes</td>\n",
              "      <td>Yes</td>\n",
              "      <td>32921</td>\n",
              "      <td>0.587078</td>\n",
              "      <td>0.062023</td>\n",
              "      <td>108</td>\n",
              "      <td>4057</td>\n",
              "      <td>Conservative</td>\n",
              "      <td>Selby and Ainsty</td>\n",
              "      <td>1.0</td>\n",
              "      <td>1.0</td>\n",
              "      <td>1.0</td>\n",
              "      <td>7303</td>\n",
              "    </tr>\n",
              "    <tr>\n",
              "      <th>1</th>\n",
              "      <td>Con</td>\n",
              "      <td>Bim Afolami</td>\n",
              "      <td>Remain</td>\n",
              "      <td>Hitchin and Harpenden</td>\n",
              "      <td>E14000749</td>\n",
              "      <td>75916</td>\n",
              "      <td>E12000006</td>\n",
              "      <td>Hitchin and Harpenden</td>\n",
              "      <td>Hertfordshire</td>\n",
              "      <td>East</td>\n",
              "      <td>England</td>\n",
              "      <td>County</td>\n",
              "      <td>Conservative</td>\n",
              "      <td>Bim</td>\n",
              "      <td>Afolami</td>\n",
              "      <td>Male</td>\n",
              "      <td>No</td>\n",
              "      <td>No</td>\n",
              "      <td>31189</td>\n",
              "      <td>0.530579</td>\n",
              "      <td>-0.038053</td>\n",
              "      <td>193</td>\n",
              "      <td>4639</td>\n",
              "      <td>Conservative</td>\n",
              "      <td>Hitchin and Harpenden</td>\n",
              "      <td>1.0</td>\n",
              "      <td>1.0</td>\n",
              "      <td>1.0</td>\n",
              "      <td>16696</td>\n",
              "    </tr>\n",
              "    <tr>\n",
              "      <th>2</th>\n",
              "      <td>Con</td>\n",
              "      <td>Stuart Andrew</td>\n",
              "      <td>Leave</td>\n",
              "      <td>Pudsey</td>\n",
              "      <td>E14000886</td>\n",
              "      <td>72622</td>\n",
              "      <td>E12000003</td>\n",
              "      <td>Pudsey</td>\n",
              "      <td>West Yorkshire</td>\n",
              "      <td>Yorkshire and The Humber</td>\n",
              "      <td>England</td>\n",
              "      <td>Borough</td>\n",
              "      <td>Conservative</td>\n",
              "      <td>Stuart</td>\n",
              "      <td>Andrew</td>\n",
              "      <td>Male</td>\n",
              "      <td>Yes</td>\n",
              "      <td>Yes</td>\n",
              "      <td>25550</td>\n",
              "      <td>0.473508</td>\n",
              "      <td>0.009373</td>\n",
              "      <td>99</td>\n",
              "      <td>4032</td>\n",
              "      <td>Conservative</td>\n",
              "      <td>Pudsey</td>\n",
              "      <td>1.0</td>\n",
              "      <td>1.0</td>\n",
              "      <td>1.0</td>\n",
              "      <td>10134</td>\n",
              "    </tr>\n",
              "    <tr>\n",
              "      <th>3</th>\n",
              "      <td>Con</td>\n",
              "      <td>Edward Argar</td>\n",
              "      <td>Remain</td>\n",
              "      <td>Charnwood</td>\n",
              "      <td>E14000625</td>\n",
              "      <td>78071</td>\n",
              "      <td>E12000004</td>\n",
              "      <td>Charnwood</td>\n",
              "      <td>Leicestershire</td>\n",
              "      <td>East Midlands</td>\n",
              "      <td>England</td>\n",
              "      <td>County</td>\n",
              "      <td>Conservative</td>\n",
              "      <td>Edward</td>\n",
              "      <td>Argar</td>\n",
              "      <td>Male</td>\n",
              "      <td>Yes</td>\n",
              "      <td>Yes</td>\n",
              "      <td>33318</td>\n",
              "      <td>0.603849</td>\n",
              "      <td>0.060729</td>\n",
              "      <td>141</td>\n",
              "      <td>4362</td>\n",
              "      <td>Conservative</td>\n",
              "      <td>Charnwood</td>\n",
              "      <td>1.0</td>\n",
              "      <td>1.0</td>\n",
              "      <td>1.0</td>\n",
              "      <td>6532</td>\n",
              "    </tr>\n",
              "    <tr>\n",
              "      <th>4</th>\n",
              "      <td>Con</td>\n",
              "      <td>Victoria Atkins</td>\n",
              "      <td>Remain</td>\n",
              "      <td>Louth and Horncastle</td>\n",
              "      <td>E14000798</td>\n",
              "      <td>79007</td>\n",
              "      <td>E12000004</td>\n",
              "      <td>Louth and Horncastle</td>\n",
              "      <td>Lincolnshire</td>\n",
              "      <td>East Midlands</td>\n",
              "      <td>England</td>\n",
              "      <td>County</td>\n",
              "      <td>Conservative</td>\n",
              "      <td>Victoria</td>\n",
              "      <td>Atkins</td>\n",
              "      <td>Female</td>\n",
              "      <td>Yes</td>\n",
              "      <td>Yes</td>\n",
              "      <td>33733</td>\n",
              "      <td>0.639234</td>\n",
              "      <td>0.127572</td>\n",
              "      <td>146</td>\n",
              "      <td>4399</td>\n",
              "      <td>Conservative</td>\n",
              "      <td>Louth and Horncastle</td>\n",
              "      <td>1.0</td>\n",
              "      <td>1.0</td>\n",
              "      <td>1.0</td>\n",
              "      <td>4293</td>\n",
              "    </tr>\n",
              "    <tr>\n",
              "      <th>...</th>\n",
              "      <td>...</td>\n",
              "      <td>...</td>\n",
              "      <td>...</td>\n",
              "      <td>...</td>\n",
              "      <td>...</td>\n",
              "      <td>...</td>\n",
              "      <td>...</td>\n",
              "      <td>...</td>\n",
              "      <td>...</td>\n",
              "      <td>...</td>\n",
              "      <td>...</td>\n",
              "      <td>...</td>\n",
              "      <td>...</td>\n",
              "      <td>...</td>\n",
              "      <td>...</td>\n",
              "      <td>...</td>\n",
              "      <td>...</td>\n",
              "      <td>...</td>\n",
              "      <td>...</td>\n",
              "      <td>...</td>\n",
              "      <td>...</td>\n",
              "      <td>...</td>\n",
              "      <td>...</td>\n",
              "      <td>...</td>\n",
              "      <td>...</td>\n",
              "      <td>...</td>\n",
              "      <td>...</td>\n",
              "      <td>...</td>\n",
              "      <td>...</td>\n",
              "    </tr>\n",
              "    <tr>\n",
              "      <th>594</th>\n",
              "      <td>DUP</td>\n",
              "      <td>Sammy Wilson</td>\n",
              "      <td>Leave</td>\n",
              "      <td>East Antrim</td>\n",
              "      <td>N06000005</td>\n",
              "      <td>62908</td>\n",
              "      <td>N92000002</td>\n",
              "      <td>East Antrim</td>\n",
              "      <td>Northern Ireland</td>\n",
              "      <td>Northern Ireland</td>\n",
              "      <td>Northern Ireland</td>\n",
              "      <td>County</td>\n",
              "      <td>Democratic Unionist Party</td>\n",
              "      <td>Sammy</td>\n",
              "      <td>Wilson</td>\n",
              "      <td>Male</td>\n",
              "      <td>Yes</td>\n",
              "      <td>Yes</td>\n",
              "      <td>21873</td>\n",
              "      <td>0.573447</td>\n",
              "      <td>0.212131</td>\n",
              "      <td>363</td>\n",
              "      <td>1593</td>\n",
              "      <td>Democratic Unionist Party</td>\n",
              "      <td>East Antrim</td>\n",
              "      <td>0.0</td>\n",
              "      <td>0.0</td>\n",
              "      <td>0.0</td>\n",
              "      <td>5278</td>\n",
              "    </tr>\n",
              "    <tr>\n",
              "      <th>595</th>\n",
              "      <td>SNP</td>\n",
              "      <td>Pete Wishart</td>\n",
              "      <td>Remain</td>\n",
              "      <td>Perth and North Perthshire</td>\n",
              "      <td>S14000054</td>\n",
              "      <td>71762</td>\n",
              "      <td>S92000003</td>\n",
              "      <td>Perth and North Perthshire</td>\n",
              "      <td>Scotland</td>\n",
              "      <td>Scotland</td>\n",
              "      <td>Scotland</td>\n",
              "      <td>County</td>\n",
              "      <td>Scottish National Party</td>\n",
              "      <td>Pete</td>\n",
              "      <td>Wishart</td>\n",
              "      <td>Male</td>\n",
              "      <td>Yes</td>\n",
              "      <td>Yes</td>\n",
              "      <td>21804</td>\n",
              "      <td>0.423173</td>\n",
              "      <td>-0.081974</td>\n",
              "      <td>312</td>\n",
              "      <td>1440</td>\n",
              "      <td>Scottish National Party</td>\n",
              "      <td>Perth and North Perthshire</td>\n",
              "      <td>0.0</td>\n",
              "      <td>0.0</td>\n",
              "      <td>0.0</td>\n",
              "      <td>9877</td>\n",
              "    </tr>\n",
              "    <tr>\n",
              "      <th>596</th>\n",
              "      <td>Con</td>\n",
              "      <td>Sarah Wollaston</td>\n",
              "      <td>Remain</td>\n",
              "      <td>Totnes</td>\n",
              "      <td>E14001001</td>\n",
              "      <td>68914</td>\n",
              "      <td>E12000009</td>\n",
              "      <td>Totnes</td>\n",
              "      <td>Devon</td>\n",
              "      <td>South West</td>\n",
              "      <td>England</td>\n",
              "      <td>County</td>\n",
              "      <td>Conservative</td>\n",
              "      <td>Sarah</td>\n",
              "      <td>Wollaston</td>\n",
              "      <td>Female</td>\n",
              "      <td>Yes</td>\n",
              "      <td>Yes</td>\n",
              "      <td>26972</td>\n",
              "      <td>0.536543</td>\n",
              "      <td>0.006976</td>\n",
              "      <td>420</td>\n",
              "      <td>4073</td>\n",
              "      <td>Conservative</td>\n",
              "      <td>Totnes</td>\n",
              "      <td>0.0</td>\n",
              "      <td>0.0</td>\n",
              "      <td>0.0</td>\n",
              "      <td>10948</td>\n",
              "    </tr>\n",
              "    <tr>\n",
              "      <th>597</th>\n",
              "      <td>Lab</td>\n",
              "      <td>Mohammad Yasin</td>\n",
              "      <td>Remain</td>\n",
              "      <td>Bedford</td>\n",
              "      <td>E14000552</td>\n",
              "      <td>71829</td>\n",
              "      <td>E12000006</td>\n",
              "      <td>Bedford</td>\n",
              "      <td>Bedfordshire</td>\n",
              "      <td>East</td>\n",
              "      <td>England</td>\n",
              "      <td>Borough</td>\n",
              "      <td>Labour</td>\n",
              "      <td>Mohammad</td>\n",
              "      <td>Yasin</td>\n",
              "      <td>Male</td>\n",
              "      <td>No</td>\n",
              "      <td>No</td>\n",
              "      <td>22712</td>\n",
              "      <td>0.468482</td>\n",
              "      <td>0.066451</td>\n",
              "      <td>568</td>\n",
              "      <td>4598</td>\n",
              "      <td>Labour</td>\n",
              "      <td>Bedford</td>\n",
              "      <td>0.0</td>\n",
              "      <td>0.0</td>\n",
              "      <td>0.0</td>\n",
              "      <td>7924</td>\n",
              "    </tr>\n",
              "    <tr>\n",
              "      <th>598</th>\n",
              "      <td>Lab</td>\n",
              "      <td>Daniel Zeichner</td>\n",
              "      <td>Remain</td>\n",
              "      <td>Cambridge</td>\n",
              "      <td>E14000617</td>\n",
              "      <td>78544</td>\n",
              "      <td>E12000006</td>\n",
              "      <td>Cambridge</td>\n",
              "      <td>Cambridgeshire</td>\n",
              "      <td>East</td>\n",
              "      <td>England</td>\n",
              "      <td>Borough</td>\n",
              "      <td>Labour</td>\n",
              "      <td>Daniel</td>\n",
              "      <td>Zeichner</td>\n",
              "      <td>Male</td>\n",
              "      <td>Yes</td>\n",
              "      <td>Yes</td>\n",
              "      <td>29032</td>\n",
              "      <td>0.519040</td>\n",
              "      <td>0.158898</td>\n",
              "      <td>473</td>\n",
              "      <td>4382</td>\n",
              "      <td>Labour</td>\n",
              "      <td>Cambridge</td>\n",
              "      <td>0.0</td>\n",
              "      <td>0.0</td>\n",
              "      <td>0.0</td>\n",
              "      <td>28185</td>\n",
              "    </tr>\n",
              "  </tbody>\n",
              "</table>\n",
              "<p>599 rows × 29 columns</p>\n",
              "</div>\n",
              "      <button class=\"colab-df-convert\" onclick=\"convertToInteractive('df-4f238c58-5df1-4c1a-9193-4a6bdb0099e9')\"\n",
              "              title=\"Convert this dataframe to an interactive table.\"\n",
              "              style=\"display:none;\">\n",
              "        \n",
              "  <svg xmlns=\"http://www.w3.org/2000/svg\" height=\"24px\"viewBox=\"0 0 24 24\"\n",
              "       width=\"24px\">\n",
              "    <path d=\"M0 0h24v24H0V0z\" fill=\"none\"/>\n",
              "    <path d=\"M18.56 5.44l.94 2.06.94-2.06 2.06-.94-2.06-.94-.94-2.06-.94 2.06-2.06.94zm-11 1L8.5 8.5l.94-2.06 2.06-.94-2.06-.94L8.5 2.5l-.94 2.06-2.06.94zm10 10l.94 2.06.94-2.06 2.06-.94-2.06-.94-.94-2.06-.94 2.06-2.06.94z\"/><path d=\"M17.41 7.96l-1.37-1.37c-.4-.4-.92-.59-1.43-.59-.52 0-1.04.2-1.43.59L10.3 9.45l-7.72 7.72c-.78.78-.78 2.05 0 2.83L4 21.41c.39.39.9.59 1.41.59.51 0 1.02-.2 1.41-.59l7.78-7.78 2.81-2.81c.8-.78.8-2.07 0-2.86zM5.41 20L4 18.59l7.72-7.72 1.47 1.35L5.41 20z\"/>\n",
              "  </svg>\n",
              "      </button>\n",
              "      \n",
              "  <style>\n",
              "    .colab-df-container {\n",
              "      display:flex;\n",
              "      flex-wrap:wrap;\n",
              "      gap: 12px;\n",
              "    }\n",
              "\n",
              "    .colab-df-convert {\n",
              "      background-color: #E8F0FE;\n",
              "      border: none;\n",
              "      border-radius: 50%;\n",
              "      cursor: pointer;\n",
              "      display: none;\n",
              "      fill: #1967D2;\n",
              "      height: 32px;\n",
              "      padding: 0 0 0 0;\n",
              "      width: 32px;\n",
              "    }\n",
              "\n",
              "    .colab-df-convert:hover {\n",
              "      background-color: #E2EBFA;\n",
              "      box-shadow: 0px 1px 2px rgba(60, 64, 67, 0.3), 0px 1px 3px 1px rgba(60, 64, 67, 0.15);\n",
              "      fill: #174EA6;\n",
              "    }\n",
              "\n",
              "    [theme=dark] .colab-df-convert {\n",
              "      background-color: #3B4455;\n",
              "      fill: #D2E3FC;\n",
              "    }\n",
              "\n",
              "    [theme=dark] .colab-df-convert:hover {\n",
              "      background-color: #434B5C;\n",
              "      box-shadow: 0px 1px 3px 1px rgba(0, 0, 0, 0.15);\n",
              "      filter: drop-shadow(0px 1px 2px rgba(0, 0, 0, 0.3));\n",
              "      fill: #FFFFFF;\n",
              "    }\n",
              "  </style>\n",
              "\n",
              "      <script>\n",
              "        const buttonEl =\n",
              "          document.querySelector('#df-4f238c58-5df1-4c1a-9193-4a6bdb0099e9 button.colab-df-convert');\n",
              "        buttonEl.style.display =\n",
              "          google.colab.kernel.accessAllowed ? 'block' : 'none';\n",
              "\n",
              "        async function convertToInteractive(key) {\n",
              "          const element = document.querySelector('#df-4f238c58-5df1-4c1a-9193-4a6bdb0099e9');\n",
              "          const dataTable =\n",
              "            await google.colab.kernel.invokeFunction('convertToInteractive',\n",
              "                                                     [key], {});\n",
              "          if (!dataTable) return;\n",
              "\n",
              "          const docLinkHtml = 'Like what you see? Visit the ' +\n",
              "            '<a target=\"_blank\" href=https://colab.research.google.com/notebooks/data_table.ipynb>data table notebook</a>'\n",
              "            + ' to learn more about interactive tables.';\n",
              "          element.innerHTML = '';\n",
              "          dataTable['output_type'] = 'display_data';\n",
              "          await google.colab.output.renderOutput(dataTable, element);\n",
              "          const docLink = document.createElement('div');\n",
              "          docLink.innerHTML = docLinkHtml;\n",
              "          element.appendChild(docLink);\n",
              "        }\n",
              "      </script>\n",
              "    </div>\n",
              "  </div>\n",
              "  "
            ],
            "text/plain": [
              "    party_abbreviation             Name  ... vote3 signature_count_241584\n",
              "0                  Con      Nigel Adams  ...   1.0                   7303\n",
              "1                  Con      Bim Afolami  ...   1.0                  16696\n",
              "2                  Con    Stuart Andrew  ...   1.0                  10134\n",
              "3                  Con     Edward Argar  ...   1.0                   6532\n",
              "4                  Con  Victoria Atkins  ...   1.0                   4293\n",
              "..                 ...              ...  ...   ...                    ...\n",
              "594                DUP     Sammy Wilson  ...   0.0                   5278\n",
              "595                SNP     Pete Wishart  ...   0.0                   9877\n",
              "596                Con  Sarah Wollaston  ...   0.0                  10948\n",
              "597                Lab   Mohammad Yasin  ...   0.0                   7924\n",
              "598                Lab  Daniel Zeichner  ...   0.0                  28185\n",
              "\n",
              "[599 rows x 29 columns]"
            ]
          },
          "metadata": {},
          "execution_count": 9
        }
      ]
    },
    {
      "cell_type": "markdown",
      "metadata": {
        "id": "MaTCP2VrSviW"
      },
      "source": [
        "# Machine learning (25 percent)\n",
        "\n",
        "Using the dataset you have prepared, run the classification problem below:\n",
        "\n",
        "- Data: Conservative MPs meaningful votes \n",
        "- Output: Rebellion in the meaningful motes\n",
        "  - Rebel = Conservative MP who voted no (if you don't understand the logic, refer to Aidt et al (2019))\n",
        "- You can choose input but at least you should include\n",
        "  - Per electorate signature for the petition\n",
        "  - MPs position in the referendum\n",
        "  - Referendum outcomes at the constituency\n",
        "  - Electoral strength measured by the percentage of votes\n",
        "\n",
        "\n",
        "## ML procedures\n",
        "\n",
        "You need to take the following steps:\n",
        "\n",
        "1. Train-test split\n",
        "2. Data wrangling (including standardization)\n",
        "3. Model fitting\n",
        "  - Run multiple algorithms. Explain the model choice (i.e. why you think the algorithm is worth trying)\n",
        "  - Carry out parameter tuning\n",
        "4. Evaluate/compare models\n",
        "  - How is the performance of different algorithms?\n",
        "5. Summarise finding and provide some discussion in writing (300 words or more). The discussion can include: \n",
        "    - Which algorism worked the best?\n",
        "    - Which meaningful vote the model explain the most?\n"
      ]
    },
    {
      "cell_type": "code",
      "source": [
        "from sklearn.model_selection import train_test_split\n",
        "from sklearn.preprocessing import StandardScaler\n",
        "from sklearn.linear_model import LogisticRegression\n",
        "from sklearn.metrics import classification_report, confusion_matrix\n",
        "from sklearn.neighbors import KNeighborsClassifier\n",
        "from sklearn.model_selection import GridSearchCV\n",
        "from sklearn.metrics import f1_score, make_scorer\n",
        "f1 = make_scorer(f1_score, average = 'binary', pos_label = 1)\n",
        "from sklearn.ensemble import RandomForestClassifier\n",
        "from sklearn.ensemble import AdaBoostClassifier\n",
        "from sklearn.svm import SVC\n",
        "svcmod = SVC(gamma='auto')"
      ],
      "metadata": {
        "id": "Szbr8yj4VyuI"
      },
      "execution_count": 10,
      "outputs": []
    },
    {
      "cell_type": "markdown",
      "source": [
        "#Train Test Split"
      ],
      "metadata": {
        "id": "73cp3HKPZg0z"
      }
    },
    {
      "cell_type": "code",
      "source": [
        "df_def_data_set = df_main_dataset.replace({\"Leave\":1, \"Remain\":0, \"No declared\":0})\n",
        "df_def_data_set_DEF = df_def_data_set[df_def_data_set[\"MP vote for Brexit\"] != 'No declared']\n",
        "df_def_data_set_DEF"
      ],
      "metadata": {
        "colab": {
          "base_uri": "https://localhost:8080/",
          "height": 782
        },
        "id": "4MckorZHibKP",
        "outputId": "5a892234-de99-4bd6-b6f2-6271e55ee899"
      },
      "execution_count": 11,
      "outputs": [
        {
          "output_type": "execute_result",
          "data": {
            "text/html": [
              "\n",
              "  <div id=\"df-0b640be5-3ac6-4f1a-bc59-028b06a8c87a\">\n",
              "    <div class=\"colab-df-container\">\n",
              "      <div>\n",
              "<style scoped>\n",
              "    .dataframe tbody tr th:only-of-type {\n",
              "        vertical-align: middle;\n",
              "    }\n",
              "\n",
              "    .dataframe tbody tr th {\n",
              "        vertical-align: top;\n",
              "    }\n",
              "\n",
              "    .dataframe thead th {\n",
              "        text-align: right;\n",
              "    }\n",
              "</style>\n",
              "<table border=\"1\" class=\"dataframe\">\n",
              "  <thead>\n",
              "    <tr style=\"text-align: right;\">\n",
              "      <th></th>\n",
              "      <th>party_abbreviation</th>\n",
              "      <th>Name</th>\n",
              "      <th>MP vote for Brexit</th>\n",
              "      <th>Constituency</th>\n",
              "      <th>ons_code</th>\n",
              "      <th>electorate</th>\n",
              "      <th>ons_region_id</th>\n",
              "      <th>constituency_name</th>\n",
              "      <th>county_name</th>\n",
              "      <th>region_name</th>\n",
              "      <th>country_name</th>\n",
              "      <th>constituency_type</th>\n",
              "      <th>party_name</th>\n",
              "      <th>firstname</th>\n",
              "      <th>surname</th>\n",
              "      <th>gender</th>\n",
              "      <th>sitting_mp</th>\n",
              "      <th>former_mp</th>\n",
              "      <th>votes</th>\n",
              "      <th>share</th>\n",
              "      <th>change</th>\n",
              "      <th>index</th>\n",
              "      <th>MemberId</th>\n",
              "      <th>Party</th>\n",
              "      <th>MemberFrom</th>\n",
              "      <th>vote1</th>\n",
              "      <th>vote2</th>\n",
              "      <th>vote3</th>\n",
              "      <th>signature_count_241584</th>\n",
              "    </tr>\n",
              "  </thead>\n",
              "  <tbody>\n",
              "    <tr>\n",
              "      <th>0</th>\n",
              "      <td>Con</td>\n",
              "      <td>Nigel Adams</td>\n",
              "      <td>1</td>\n",
              "      <td>Selby and Ainsty</td>\n",
              "      <td>E14000917</td>\n",
              "      <td>75918</td>\n",
              "      <td>E12000003</td>\n",
              "      <td>Selby and Ainsty</td>\n",
              "      <td>North Yorkshire</td>\n",
              "      <td>Yorkshire and The Humber</td>\n",
              "      <td>England</td>\n",
              "      <td>County</td>\n",
              "      <td>Conservative</td>\n",
              "      <td>Nigel</td>\n",
              "      <td>Adams</td>\n",
              "      <td>Male</td>\n",
              "      <td>Yes</td>\n",
              "      <td>Yes</td>\n",
              "      <td>32921</td>\n",
              "      <td>0.587078</td>\n",
              "      <td>0.062023</td>\n",
              "      <td>108</td>\n",
              "      <td>4057</td>\n",
              "      <td>Conservative</td>\n",
              "      <td>Selby and Ainsty</td>\n",
              "      <td>1.0</td>\n",
              "      <td>1.0</td>\n",
              "      <td>1.0</td>\n",
              "      <td>7303</td>\n",
              "    </tr>\n",
              "    <tr>\n",
              "      <th>1</th>\n",
              "      <td>Con</td>\n",
              "      <td>Bim Afolami</td>\n",
              "      <td>0</td>\n",
              "      <td>Hitchin and Harpenden</td>\n",
              "      <td>E14000749</td>\n",
              "      <td>75916</td>\n",
              "      <td>E12000006</td>\n",
              "      <td>Hitchin and Harpenden</td>\n",
              "      <td>Hertfordshire</td>\n",
              "      <td>East</td>\n",
              "      <td>England</td>\n",
              "      <td>County</td>\n",
              "      <td>Conservative</td>\n",
              "      <td>Bim</td>\n",
              "      <td>Afolami</td>\n",
              "      <td>Male</td>\n",
              "      <td>No</td>\n",
              "      <td>No</td>\n",
              "      <td>31189</td>\n",
              "      <td>0.530579</td>\n",
              "      <td>-0.038053</td>\n",
              "      <td>193</td>\n",
              "      <td>4639</td>\n",
              "      <td>Conservative</td>\n",
              "      <td>Hitchin and Harpenden</td>\n",
              "      <td>1.0</td>\n",
              "      <td>1.0</td>\n",
              "      <td>1.0</td>\n",
              "      <td>16696</td>\n",
              "    </tr>\n",
              "    <tr>\n",
              "      <th>2</th>\n",
              "      <td>Con</td>\n",
              "      <td>Stuart Andrew</td>\n",
              "      <td>1</td>\n",
              "      <td>Pudsey</td>\n",
              "      <td>E14000886</td>\n",
              "      <td>72622</td>\n",
              "      <td>E12000003</td>\n",
              "      <td>Pudsey</td>\n",
              "      <td>West Yorkshire</td>\n",
              "      <td>Yorkshire and The Humber</td>\n",
              "      <td>England</td>\n",
              "      <td>Borough</td>\n",
              "      <td>Conservative</td>\n",
              "      <td>Stuart</td>\n",
              "      <td>Andrew</td>\n",
              "      <td>Male</td>\n",
              "      <td>Yes</td>\n",
              "      <td>Yes</td>\n",
              "      <td>25550</td>\n",
              "      <td>0.473508</td>\n",
              "      <td>0.009373</td>\n",
              "      <td>99</td>\n",
              "      <td>4032</td>\n",
              "      <td>Conservative</td>\n",
              "      <td>Pudsey</td>\n",
              "      <td>1.0</td>\n",
              "      <td>1.0</td>\n",
              "      <td>1.0</td>\n",
              "      <td>10134</td>\n",
              "    </tr>\n",
              "    <tr>\n",
              "      <th>3</th>\n",
              "      <td>Con</td>\n",
              "      <td>Edward Argar</td>\n",
              "      <td>0</td>\n",
              "      <td>Charnwood</td>\n",
              "      <td>E14000625</td>\n",
              "      <td>78071</td>\n",
              "      <td>E12000004</td>\n",
              "      <td>Charnwood</td>\n",
              "      <td>Leicestershire</td>\n",
              "      <td>East Midlands</td>\n",
              "      <td>England</td>\n",
              "      <td>County</td>\n",
              "      <td>Conservative</td>\n",
              "      <td>Edward</td>\n",
              "      <td>Argar</td>\n",
              "      <td>Male</td>\n",
              "      <td>Yes</td>\n",
              "      <td>Yes</td>\n",
              "      <td>33318</td>\n",
              "      <td>0.603849</td>\n",
              "      <td>0.060729</td>\n",
              "      <td>141</td>\n",
              "      <td>4362</td>\n",
              "      <td>Conservative</td>\n",
              "      <td>Charnwood</td>\n",
              "      <td>1.0</td>\n",
              "      <td>1.0</td>\n",
              "      <td>1.0</td>\n",
              "      <td>6532</td>\n",
              "    </tr>\n",
              "    <tr>\n",
              "      <th>4</th>\n",
              "      <td>Con</td>\n",
              "      <td>Victoria Atkins</td>\n",
              "      <td>0</td>\n",
              "      <td>Louth and Horncastle</td>\n",
              "      <td>E14000798</td>\n",
              "      <td>79007</td>\n",
              "      <td>E12000004</td>\n",
              "      <td>Louth and Horncastle</td>\n",
              "      <td>Lincolnshire</td>\n",
              "      <td>East Midlands</td>\n",
              "      <td>England</td>\n",
              "      <td>County</td>\n",
              "      <td>Conservative</td>\n",
              "      <td>Victoria</td>\n",
              "      <td>Atkins</td>\n",
              "      <td>Female</td>\n",
              "      <td>Yes</td>\n",
              "      <td>Yes</td>\n",
              "      <td>33733</td>\n",
              "      <td>0.639234</td>\n",
              "      <td>0.127572</td>\n",
              "      <td>146</td>\n",
              "      <td>4399</td>\n",
              "      <td>Conservative</td>\n",
              "      <td>Louth and Horncastle</td>\n",
              "      <td>1.0</td>\n",
              "      <td>1.0</td>\n",
              "      <td>1.0</td>\n",
              "      <td>4293</td>\n",
              "    </tr>\n",
              "    <tr>\n",
              "      <th>...</th>\n",
              "      <td>...</td>\n",
              "      <td>...</td>\n",
              "      <td>...</td>\n",
              "      <td>...</td>\n",
              "      <td>...</td>\n",
              "      <td>...</td>\n",
              "      <td>...</td>\n",
              "      <td>...</td>\n",
              "      <td>...</td>\n",
              "      <td>...</td>\n",
              "      <td>...</td>\n",
              "      <td>...</td>\n",
              "      <td>...</td>\n",
              "      <td>...</td>\n",
              "      <td>...</td>\n",
              "      <td>...</td>\n",
              "      <td>...</td>\n",
              "      <td>...</td>\n",
              "      <td>...</td>\n",
              "      <td>...</td>\n",
              "      <td>...</td>\n",
              "      <td>...</td>\n",
              "      <td>...</td>\n",
              "      <td>...</td>\n",
              "      <td>...</td>\n",
              "      <td>...</td>\n",
              "      <td>...</td>\n",
              "      <td>...</td>\n",
              "      <td>...</td>\n",
              "    </tr>\n",
              "    <tr>\n",
              "      <th>594</th>\n",
              "      <td>DUP</td>\n",
              "      <td>Sammy Wilson</td>\n",
              "      <td>1</td>\n",
              "      <td>East Antrim</td>\n",
              "      <td>N06000005</td>\n",
              "      <td>62908</td>\n",
              "      <td>N92000002</td>\n",
              "      <td>East Antrim</td>\n",
              "      <td>Northern Ireland</td>\n",
              "      <td>Northern Ireland</td>\n",
              "      <td>Northern Ireland</td>\n",
              "      <td>County</td>\n",
              "      <td>Democratic Unionist Party</td>\n",
              "      <td>Sammy</td>\n",
              "      <td>Wilson</td>\n",
              "      <td>Male</td>\n",
              "      <td>Yes</td>\n",
              "      <td>Yes</td>\n",
              "      <td>21873</td>\n",
              "      <td>0.573447</td>\n",
              "      <td>0.212131</td>\n",
              "      <td>363</td>\n",
              "      <td>1593</td>\n",
              "      <td>Democratic Unionist Party</td>\n",
              "      <td>East Antrim</td>\n",
              "      <td>0.0</td>\n",
              "      <td>0.0</td>\n",
              "      <td>0.0</td>\n",
              "      <td>5278</td>\n",
              "    </tr>\n",
              "    <tr>\n",
              "      <th>595</th>\n",
              "      <td>SNP</td>\n",
              "      <td>Pete Wishart</td>\n",
              "      <td>0</td>\n",
              "      <td>Perth and North Perthshire</td>\n",
              "      <td>S14000054</td>\n",
              "      <td>71762</td>\n",
              "      <td>S92000003</td>\n",
              "      <td>Perth and North Perthshire</td>\n",
              "      <td>Scotland</td>\n",
              "      <td>Scotland</td>\n",
              "      <td>Scotland</td>\n",
              "      <td>County</td>\n",
              "      <td>Scottish National Party</td>\n",
              "      <td>Pete</td>\n",
              "      <td>Wishart</td>\n",
              "      <td>Male</td>\n",
              "      <td>Yes</td>\n",
              "      <td>Yes</td>\n",
              "      <td>21804</td>\n",
              "      <td>0.423173</td>\n",
              "      <td>-0.081974</td>\n",
              "      <td>312</td>\n",
              "      <td>1440</td>\n",
              "      <td>Scottish National Party</td>\n",
              "      <td>Perth and North Perthshire</td>\n",
              "      <td>0.0</td>\n",
              "      <td>0.0</td>\n",
              "      <td>0.0</td>\n",
              "      <td>9877</td>\n",
              "    </tr>\n",
              "    <tr>\n",
              "      <th>596</th>\n",
              "      <td>Con</td>\n",
              "      <td>Sarah Wollaston</td>\n",
              "      <td>0</td>\n",
              "      <td>Totnes</td>\n",
              "      <td>E14001001</td>\n",
              "      <td>68914</td>\n",
              "      <td>E12000009</td>\n",
              "      <td>Totnes</td>\n",
              "      <td>Devon</td>\n",
              "      <td>South West</td>\n",
              "      <td>England</td>\n",
              "      <td>County</td>\n",
              "      <td>Conservative</td>\n",
              "      <td>Sarah</td>\n",
              "      <td>Wollaston</td>\n",
              "      <td>Female</td>\n",
              "      <td>Yes</td>\n",
              "      <td>Yes</td>\n",
              "      <td>26972</td>\n",
              "      <td>0.536543</td>\n",
              "      <td>0.006976</td>\n",
              "      <td>420</td>\n",
              "      <td>4073</td>\n",
              "      <td>Conservative</td>\n",
              "      <td>Totnes</td>\n",
              "      <td>0.0</td>\n",
              "      <td>0.0</td>\n",
              "      <td>0.0</td>\n",
              "      <td>10948</td>\n",
              "    </tr>\n",
              "    <tr>\n",
              "      <th>597</th>\n",
              "      <td>Lab</td>\n",
              "      <td>Mohammad Yasin</td>\n",
              "      <td>0</td>\n",
              "      <td>Bedford</td>\n",
              "      <td>E14000552</td>\n",
              "      <td>71829</td>\n",
              "      <td>E12000006</td>\n",
              "      <td>Bedford</td>\n",
              "      <td>Bedfordshire</td>\n",
              "      <td>East</td>\n",
              "      <td>England</td>\n",
              "      <td>Borough</td>\n",
              "      <td>Labour</td>\n",
              "      <td>Mohammad</td>\n",
              "      <td>Yasin</td>\n",
              "      <td>Male</td>\n",
              "      <td>No</td>\n",
              "      <td>No</td>\n",
              "      <td>22712</td>\n",
              "      <td>0.468482</td>\n",
              "      <td>0.066451</td>\n",
              "      <td>568</td>\n",
              "      <td>4598</td>\n",
              "      <td>Labour</td>\n",
              "      <td>Bedford</td>\n",
              "      <td>0.0</td>\n",
              "      <td>0.0</td>\n",
              "      <td>0.0</td>\n",
              "      <td>7924</td>\n",
              "    </tr>\n",
              "    <tr>\n",
              "      <th>598</th>\n",
              "      <td>Lab</td>\n",
              "      <td>Daniel Zeichner</td>\n",
              "      <td>0</td>\n",
              "      <td>Cambridge</td>\n",
              "      <td>E14000617</td>\n",
              "      <td>78544</td>\n",
              "      <td>E12000006</td>\n",
              "      <td>Cambridge</td>\n",
              "      <td>Cambridgeshire</td>\n",
              "      <td>East</td>\n",
              "      <td>England</td>\n",
              "      <td>Borough</td>\n",
              "      <td>Labour</td>\n",
              "      <td>Daniel</td>\n",
              "      <td>Zeichner</td>\n",
              "      <td>Male</td>\n",
              "      <td>Yes</td>\n",
              "      <td>Yes</td>\n",
              "      <td>29032</td>\n",
              "      <td>0.519040</td>\n",
              "      <td>0.158898</td>\n",
              "      <td>473</td>\n",
              "      <td>4382</td>\n",
              "      <td>Labour</td>\n",
              "      <td>Cambridge</td>\n",
              "      <td>0.0</td>\n",
              "      <td>0.0</td>\n",
              "      <td>0.0</td>\n",
              "      <td>28185</td>\n",
              "    </tr>\n",
              "  </tbody>\n",
              "</table>\n",
              "<p>599 rows × 29 columns</p>\n",
              "</div>\n",
              "      <button class=\"colab-df-convert\" onclick=\"convertToInteractive('df-0b640be5-3ac6-4f1a-bc59-028b06a8c87a')\"\n",
              "              title=\"Convert this dataframe to an interactive table.\"\n",
              "              style=\"display:none;\">\n",
              "        \n",
              "  <svg xmlns=\"http://www.w3.org/2000/svg\" height=\"24px\"viewBox=\"0 0 24 24\"\n",
              "       width=\"24px\">\n",
              "    <path d=\"M0 0h24v24H0V0z\" fill=\"none\"/>\n",
              "    <path d=\"M18.56 5.44l.94 2.06.94-2.06 2.06-.94-2.06-.94-.94-2.06-.94 2.06-2.06.94zm-11 1L8.5 8.5l.94-2.06 2.06-.94-2.06-.94L8.5 2.5l-.94 2.06-2.06.94zm10 10l.94 2.06.94-2.06 2.06-.94-2.06-.94-.94-2.06-.94 2.06-2.06.94z\"/><path d=\"M17.41 7.96l-1.37-1.37c-.4-.4-.92-.59-1.43-.59-.52 0-1.04.2-1.43.59L10.3 9.45l-7.72 7.72c-.78.78-.78 2.05 0 2.83L4 21.41c.39.39.9.59 1.41.59.51 0 1.02-.2 1.41-.59l7.78-7.78 2.81-2.81c.8-.78.8-2.07 0-2.86zM5.41 20L4 18.59l7.72-7.72 1.47 1.35L5.41 20z\"/>\n",
              "  </svg>\n",
              "      </button>\n",
              "      \n",
              "  <style>\n",
              "    .colab-df-container {\n",
              "      display:flex;\n",
              "      flex-wrap:wrap;\n",
              "      gap: 12px;\n",
              "    }\n",
              "\n",
              "    .colab-df-convert {\n",
              "      background-color: #E8F0FE;\n",
              "      border: none;\n",
              "      border-radius: 50%;\n",
              "      cursor: pointer;\n",
              "      display: none;\n",
              "      fill: #1967D2;\n",
              "      height: 32px;\n",
              "      padding: 0 0 0 0;\n",
              "      width: 32px;\n",
              "    }\n",
              "\n",
              "    .colab-df-convert:hover {\n",
              "      background-color: #E2EBFA;\n",
              "      box-shadow: 0px 1px 2px rgba(60, 64, 67, 0.3), 0px 1px 3px 1px rgba(60, 64, 67, 0.15);\n",
              "      fill: #174EA6;\n",
              "    }\n",
              "\n",
              "    [theme=dark] .colab-df-convert {\n",
              "      background-color: #3B4455;\n",
              "      fill: #D2E3FC;\n",
              "    }\n",
              "\n",
              "    [theme=dark] .colab-df-convert:hover {\n",
              "      background-color: #434B5C;\n",
              "      box-shadow: 0px 1px 3px 1px rgba(0, 0, 0, 0.15);\n",
              "      filter: drop-shadow(0px 1px 2px rgba(0, 0, 0, 0.3));\n",
              "      fill: #FFFFFF;\n",
              "    }\n",
              "  </style>\n",
              "\n",
              "      <script>\n",
              "        const buttonEl =\n",
              "          document.querySelector('#df-0b640be5-3ac6-4f1a-bc59-028b06a8c87a button.colab-df-convert');\n",
              "        buttonEl.style.display =\n",
              "          google.colab.kernel.accessAllowed ? 'block' : 'none';\n",
              "\n",
              "        async function convertToInteractive(key) {\n",
              "          const element = document.querySelector('#df-0b640be5-3ac6-4f1a-bc59-028b06a8c87a');\n",
              "          const dataTable =\n",
              "            await google.colab.kernel.invokeFunction('convertToInteractive',\n",
              "                                                     [key], {});\n",
              "          if (!dataTable) return;\n",
              "\n",
              "          const docLinkHtml = 'Like what you see? Visit the ' +\n",
              "            '<a target=\"_blank\" href=https://colab.research.google.com/notebooks/data_table.ipynb>data table notebook</a>'\n",
              "            + ' to learn more about interactive tables.';\n",
              "          element.innerHTML = '';\n",
              "          dataTable['output_type'] = 'display_data';\n",
              "          await google.colab.output.renderOutput(dataTable, element);\n",
              "          const docLink = document.createElement('div');\n",
              "          docLink.innerHTML = docLinkHtml;\n",
              "          element.appendChild(docLink);\n",
              "        }\n",
              "      </script>\n",
              "    </div>\n",
              "  </div>\n",
              "  "
            ],
            "text/plain": [
              "    party_abbreviation             Name  ...  vote3 signature_count_241584\n",
              "0                  Con      Nigel Adams  ...    1.0                   7303\n",
              "1                  Con      Bim Afolami  ...    1.0                  16696\n",
              "2                  Con    Stuart Andrew  ...    1.0                  10134\n",
              "3                  Con     Edward Argar  ...    1.0                   6532\n",
              "4                  Con  Victoria Atkins  ...    1.0                   4293\n",
              "..                 ...              ...  ...    ...                    ...\n",
              "594                DUP     Sammy Wilson  ...    0.0                   5278\n",
              "595                SNP     Pete Wishart  ...    0.0                   9877\n",
              "596                Con  Sarah Wollaston  ...    0.0                  10948\n",
              "597                Lab   Mohammad Yasin  ...    0.0                   7924\n",
              "598                Lab  Daniel Zeichner  ...    0.0                  28185\n",
              "\n",
              "[599 rows x 29 columns]"
            ]
          },
          "metadata": {},
          "execution_count": 11
        }
      ]
    },
    {
      "cell_type": "code",
      "source": [
        "X = df_def_data_set.loc[df_main_dataset['party_name'] =='Conservative'][[\"signature_count_241584\", \"votes\", \"share\", \"electorate\", \"change\", \"MP vote for Brexit\"]]\n",
        "Y = df_def_data_set.loc[df_main_dataset['party_name'] =='Conservative'][[\"vote3\"]]"
      ],
      "metadata": {
        "id": "ewJ_fFMwWzG4"
      },
      "execution_count": 12,
      "outputs": []
    },
    {
      "cell_type": "code",
      "source": [
        "X_train, X_test, Y_train, Y_test = train_test_split(X, Y, test_size=0.3, random_state=101)"
      ],
      "metadata": {
        "id": "Vmgfhx4PWs0N"
      },
      "execution_count": 13,
      "outputs": []
    },
    {
      "cell_type": "code",
      "source": [
        "Y_test = Y_test.dropna()\n",
        "#Y_train = Y_train.dropna()\n",
        "for i in Y_train.index:\n",
        "  if(Y_train['vote3'][i] != 1.0 and Y_train['vote3'][i] != 0.0):\n",
        "    Y_train['vote3'][i] = 0.0\n",
        "\"\"\"\n",
        "for i in Y_train.index:\n",
        "  print(Y_train['vote3'][i])\n",
        "\n",
        "Y_train = Y_train.dropna()\n",
        "print(len(Y_train))\n",
        "\"\"\""
      ],
      "metadata": {
        "id": "eHlVqQUHYpVx",
        "outputId": "cec73fb4-6ac5-475f-c415-1c5ddc388e10",
        "colab": {
          "base_uri": "https://localhost:8080/",
          "height": 35
        }
      },
      "execution_count": 14,
      "outputs": [
        {
          "output_type": "execute_result",
          "data": {
            "application/vnd.google.colaboratory.intrinsic+json": {
              "type": "string"
            },
            "text/plain": [
              "\"\\nfor i in Y_train.index:\\n  print(Y_train['vote3'][i])\\n\\nY_train = Y_train.dropna()\\nprint(len(Y_train))\\n\""
            ]
          },
          "metadata": {},
          "execution_count": 14
        }
      ]
    },
    {
      "cell_type": "markdown",
      "source": [
        "Standarizing Data"
      ],
      "metadata": {
        "id": "AUeAxLiw7Cp9"
      }
    },
    {
      "cell_type": "code",
      "source": [
        "from sklearn.preprocessing import StandardScaler\n",
        "scaler = StandardScaler()"
      ],
      "metadata": {
        "id": "t48nAqUL7BgR"
      },
      "execution_count": 15,
      "outputs": []
    },
    {
      "cell_type": "code",
      "source": [
        "scaler.fit(X_train)\n",
        "X_train = scaler.fit_transform(X_train)\n",
        "X_test = scaler.transform(X_test)"
      ],
      "metadata": {
        "id": "05HRs2e77VjH"
      },
      "execution_count": 16,
      "outputs": []
    },
    {
      "cell_type": "markdown",
      "source": [
        "#Train Model"
      ],
      "metadata": {
        "id": "b-psP46ESW1l"
      }
    },
    {
      "cell_type": "code",
      "source": [
        "from sklearn.linear_model import LinearRegression\n",
        "model_lm = LinearRegression()"
      ],
      "metadata": {
        "id": "2p93BixUSWNo"
      },
      "execution_count": 17,
      "outputs": []
    },
    {
      "cell_type": "markdown",
      "source": [
        "Estimating Model"
      ],
      "metadata": {
        "id": "lZbj0aWPscTV"
      }
    },
    {
      "cell_type": "code",
      "source": [
        "from sklearn.linear_model import LogisticRegression\n",
        "logitmod = LogisticRegression()"
      ],
      "metadata": {
        "id": "MyT1IVfysawA"
      },
      "execution_count": 18,
      "outputs": []
    },
    {
      "cell_type": "code",
      "source": [
        "logitmod.fit(X_train, Y_train)"
      ],
      "metadata": {
        "id": "tNBqBwYNsf0_",
        "outputId": "153042ef-5780-4c9a-ee56-216be351bd77",
        "colab": {
          "base_uri": "https://localhost:8080/"
        }
      },
      "execution_count": 19,
      "outputs": [
        {
          "output_type": "stream",
          "name": "stderr",
          "text": [
            "/usr/local/lib/python3.7/dist-packages/sklearn/utils/validation.py:993: DataConversionWarning: A column-vector y was passed when a 1d array was expected. Please change the shape of y to (n_samples, ), for example using ravel().\n",
            "  y = column_or_1d(y, warn=True)\n"
          ]
        },
        {
          "output_type": "execute_result",
          "data": {
            "text/plain": [
              "LogisticRegression()"
            ]
          },
          "metadata": {},
          "execution_count": 19
        }
      ]
    },
    {
      "cell_type": "code",
      "source": [
        "pred_test = logitmod.predict(X_test)"
      ],
      "metadata": {
        "id": "OJils8nBXIQd"
      },
      "execution_count": 20,
      "outputs": []
    },
    {
      "cell_type": "code",
      "source": [
        "from sklearn.metrics import classification_report, confusion_matrix"
      ],
      "metadata": {
        "id": "HWzP_BPW5u0M"
      },
      "execution_count": 21,
      "outputs": []
    },
    {
      "cell_type": "code",
      "source": [
        "confusion_matrix(Y_test, pred_test)"
      ],
      "metadata": {
        "id": "iXeFwBiZAWhZ",
        "outputId": "a189ed16-b9b6-43af-c900-cb0fedde5926",
        "colab": {
          "base_uri": "https://localhost:8080/"
        }
      },
      "execution_count": 22,
      "outputs": [
        {
          "output_type": "execute_result",
          "data": {
            "text/plain": [
              "array([[ 0,  8],\n",
              "       [ 0, 83]])"
            ]
          },
          "metadata": {},
          "execution_count": 22
        }
      ]
    },
    {
      "cell_type": "code",
      "source": [
        "df_logitmode = pd.DataFrame(logitmod.coef_, columns = X.columns)\n",
        "df_logitmode"
      ],
      "metadata": {
        "id": "bDpjw-K8AeKE",
        "outputId": "f9f8b2ad-9818-4c3b-c543-47f8eafaba00",
        "colab": {
          "base_uri": "https://localhost:8080/",
          "height": 81
        }
      },
      "execution_count": 23,
      "outputs": [
        {
          "output_type": "execute_result",
          "data": {
            "text/html": [
              "\n",
              "  <div id=\"df-bd3c3e44-136f-4900-8e7e-2eaad2f530a4\">\n",
              "    <div class=\"colab-df-container\">\n",
              "      <div>\n",
              "<style scoped>\n",
              "    .dataframe tbody tr th:only-of-type {\n",
              "        vertical-align: middle;\n",
              "    }\n",
              "\n",
              "    .dataframe tbody tr th {\n",
              "        vertical-align: top;\n",
              "    }\n",
              "\n",
              "    .dataframe thead th {\n",
              "        text-align: right;\n",
              "    }\n",
              "</style>\n",
              "<table border=\"1\" class=\"dataframe\">\n",
              "  <thead>\n",
              "    <tr style=\"text-align: right;\">\n",
              "      <th></th>\n",
              "      <th>signature_count_241584</th>\n",
              "      <th>votes</th>\n",
              "      <th>share</th>\n",
              "      <th>electorate</th>\n",
              "      <th>change</th>\n",
              "      <th>MP vote for Brexit</th>\n",
              "    </tr>\n",
              "  </thead>\n",
              "  <tbody>\n",
              "    <tr>\n",
              "      <th>0</th>\n",
              "      <td>0.221354</td>\n",
              "      <td>-0.102249</td>\n",
              "      <td>0.077499</td>\n",
              "      <td>0.207998</td>\n",
              "      <td>0.451745</td>\n",
              "      <td>-0.719913</td>\n",
              "    </tr>\n",
              "  </tbody>\n",
              "</table>\n",
              "</div>\n",
              "      <button class=\"colab-df-convert\" onclick=\"convertToInteractive('df-bd3c3e44-136f-4900-8e7e-2eaad2f530a4')\"\n",
              "              title=\"Convert this dataframe to an interactive table.\"\n",
              "              style=\"display:none;\">\n",
              "        \n",
              "  <svg xmlns=\"http://www.w3.org/2000/svg\" height=\"24px\"viewBox=\"0 0 24 24\"\n",
              "       width=\"24px\">\n",
              "    <path d=\"M0 0h24v24H0V0z\" fill=\"none\"/>\n",
              "    <path d=\"M18.56 5.44l.94 2.06.94-2.06 2.06-.94-2.06-.94-.94-2.06-.94 2.06-2.06.94zm-11 1L8.5 8.5l.94-2.06 2.06-.94-2.06-.94L8.5 2.5l-.94 2.06-2.06.94zm10 10l.94 2.06.94-2.06 2.06-.94-2.06-.94-.94-2.06-.94 2.06-2.06.94z\"/><path d=\"M17.41 7.96l-1.37-1.37c-.4-.4-.92-.59-1.43-.59-.52 0-1.04.2-1.43.59L10.3 9.45l-7.72 7.72c-.78.78-.78 2.05 0 2.83L4 21.41c.39.39.9.59 1.41.59.51 0 1.02-.2 1.41-.59l7.78-7.78 2.81-2.81c.8-.78.8-2.07 0-2.86zM5.41 20L4 18.59l7.72-7.72 1.47 1.35L5.41 20z\"/>\n",
              "  </svg>\n",
              "      </button>\n",
              "      \n",
              "  <style>\n",
              "    .colab-df-container {\n",
              "      display:flex;\n",
              "      flex-wrap:wrap;\n",
              "      gap: 12px;\n",
              "    }\n",
              "\n",
              "    .colab-df-convert {\n",
              "      background-color: #E8F0FE;\n",
              "      border: none;\n",
              "      border-radius: 50%;\n",
              "      cursor: pointer;\n",
              "      display: none;\n",
              "      fill: #1967D2;\n",
              "      height: 32px;\n",
              "      padding: 0 0 0 0;\n",
              "      width: 32px;\n",
              "    }\n",
              "\n",
              "    .colab-df-convert:hover {\n",
              "      background-color: #E2EBFA;\n",
              "      box-shadow: 0px 1px 2px rgba(60, 64, 67, 0.3), 0px 1px 3px 1px rgba(60, 64, 67, 0.15);\n",
              "      fill: #174EA6;\n",
              "    }\n",
              "\n",
              "    [theme=dark] .colab-df-convert {\n",
              "      background-color: #3B4455;\n",
              "      fill: #D2E3FC;\n",
              "    }\n",
              "\n",
              "    [theme=dark] .colab-df-convert:hover {\n",
              "      background-color: #434B5C;\n",
              "      box-shadow: 0px 1px 3px 1px rgba(0, 0, 0, 0.15);\n",
              "      filter: drop-shadow(0px 1px 2px rgba(0, 0, 0, 0.3));\n",
              "      fill: #FFFFFF;\n",
              "    }\n",
              "  </style>\n",
              "\n",
              "      <script>\n",
              "        const buttonEl =\n",
              "          document.querySelector('#df-bd3c3e44-136f-4900-8e7e-2eaad2f530a4 button.colab-df-convert');\n",
              "        buttonEl.style.display =\n",
              "          google.colab.kernel.accessAllowed ? 'block' : 'none';\n",
              "\n",
              "        async function convertToInteractive(key) {\n",
              "          const element = document.querySelector('#df-bd3c3e44-136f-4900-8e7e-2eaad2f530a4');\n",
              "          const dataTable =\n",
              "            await google.colab.kernel.invokeFunction('convertToInteractive',\n",
              "                                                     [key], {});\n",
              "          if (!dataTable) return;\n",
              "\n",
              "          const docLinkHtml = 'Like what you see? Visit the ' +\n",
              "            '<a target=\"_blank\" href=https://colab.research.google.com/notebooks/data_table.ipynb>data table notebook</a>'\n",
              "            + ' to learn more about interactive tables.';\n",
              "          element.innerHTML = '';\n",
              "          dataTable['output_type'] = 'display_data';\n",
              "          await google.colab.output.renderOutput(dataTable, element);\n",
              "          const docLink = document.createElement('div');\n",
              "          docLink.innerHTML = docLinkHtml;\n",
              "          element.appendChild(docLink);\n",
              "        }\n",
              "      </script>\n",
              "    </div>\n",
              "  </div>\n",
              "  "
            ],
            "text/plain": [
              "   signature_count_241584     votes  ...    change  MP vote for Brexit\n",
              "0                0.221354 -0.102249  ...  0.451745           -0.719913\n",
              "\n",
              "[1 rows x 6 columns]"
            ]
          },
          "metadata": {},
          "execution_count": 23
        }
      ]
    },
    {
      "cell_type": "markdown",
      "source": [
        "#Model Evaluations"
      ],
      "metadata": {
        "id": "13-kz7GO6I9n"
      }
    },
    {
      "cell_type": "code",
      "source": [
        "from sklearn.linear_model import LinearRegression\n",
        "model_lm = LinearRegression()\n",
        "X_train_scaled = scaler.transform(X_train)\n",
        "X_test_scaled = scaler.transform(X_test)\n",
        "model_lm.fit(X_train_scaled, Y_train)\n",
        "pred_train = model_lm.predict(X_train_scaled)"
      ],
      "metadata": {
        "colab": {
          "base_uri": "https://localhost:8080/"
        },
        "id": "31tmS1s3rbTc",
        "outputId": "c6384cd4-842c-4b2e-e2c2-78ba97870174"
      },
      "execution_count": 24,
      "outputs": [
        {
          "output_type": "stream",
          "name": "stderr",
          "text": [
            "/usr/local/lib/python3.7/dist-packages/sklearn/base.py:451: UserWarning: X does not have valid feature names, but StandardScaler was fitted with feature names\n",
            "  \"X does not have valid feature names, but\"\n",
            "/usr/local/lib/python3.7/dist-packages/sklearn/base.py:451: UserWarning: X does not have valid feature names, but StandardScaler was fitted with feature names\n",
            "  \"X does not have valid feature names, but\"\n"
          ]
        }
      ]
    },
    {
      "cell_type": "code",
      "source": [
        "from sklearn.metrics import mean_absolute_error, mean_squared_error"
      ],
      "metadata": {
        "id": "CAfNXqgo6EfK"
      },
      "execution_count": 25,
      "outputs": []
    },
    {
      "cell_type": "code",
      "source": [
        "pred_test = model_lm.predict(X_test_scaled)"
      ],
      "metadata": {
        "id": "l_EmIhfj6LMq"
      },
      "execution_count": 26,
      "outputs": []
    },
    {
      "cell_type": "code",
      "source": [
        "MAE = mean_absolute_error(Y_test, pred_test)\n",
        "MSE = mean_squared_error(Y_test, pred_test)\n",
        "RMSE = np.sqrt(mean_squared_error(Y_test, pred_test))"
      ],
      "metadata": {
        "id": "4KgXBjfD6UfE"
      },
      "execution_count": 27,
      "outputs": []
    },
    {
      "cell_type": "code",
      "source": [
        "[MAE, MSE, RMSE]"
      ],
      "metadata": {
        "id": "UT2nQlu16WKq",
        "colab": {
          "base_uri": "https://localhost:8080/"
        },
        "outputId": "059efa76-dfcc-43fa-bd2b-60f4cd1b98ff"
      },
      "execution_count": 28,
      "outputs": [
        {
          "output_type": "execute_result",
          "data": {
            "text/plain": [
              "[0.18548623404046669, 0.08171671595821028, 0.2858613579310962]"
            ]
          },
          "metadata": {},
          "execution_count": 28
        }
      ]
    },
    {
      "cell_type": "markdown",
      "source": [
        "#KNN CLASSIFIER"
      ],
      "metadata": {
        "id": "2nUBs6XDnyAm"
      }
    },
    {
      "cell_type": "code",
      "source": [
        "knnmod = KNeighborsClassifier(n_neighbors=2)\n",
        "knnmod.fit(X_train,Y_train)\n",
        "pred_knn = knnmod.predict(X_test)"
      ],
      "metadata": {
        "colab": {
          "base_uri": "https://localhost:8080/"
        },
        "id": "kRzXceuOn09G",
        "outputId": "8f84909a-84d1-47e6-c3db-293355c31860"
      },
      "execution_count": 29,
      "outputs": [
        {
          "output_type": "stream",
          "name": "stderr",
          "text": [
            "/usr/local/lib/python3.7/dist-packages/sklearn/neighbors/_classification.py:198: DataConversionWarning: A column-vector y was passed when a 1d array was expected. Please change the shape of y to (n_samples,), for example using ravel().\n",
            "  return self._fit(X, y)\n"
          ]
        }
      ]
    },
    {
      "cell_type": "code",
      "source": [
        "confusion_matrix(Y_test, pred_knn)"
      ],
      "metadata": {
        "colab": {
          "base_uri": "https://localhost:8080/"
        },
        "id": "Ne9uwI9On6u2",
        "outputId": "8432e3db-a13d-40b3-bb94-8629e2bef62f"
      },
      "execution_count": 30,
      "outputs": [
        {
          "output_type": "execute_result",
          "data": {
            "text/plain": [
              "array([[ 1,  7],\n",
              "       [24, 59]])"
            ]
          },
          "metadata": {},
          "execution_count": 30
        }
      ]
    },
    {
      "cell_type": "code",
      "source": [
        "print(classification_report(Y_test, pred_knn))"
      ],
      "metadata": {
        "colab": {
          "base_uri": "https://localhost:8080/"
        },
        "id": "EDPHUj9WoFrY",
        "outputId": "76735d21-b962-4a88-eeba-69aef0879ef0"
      },
      "execution_count": 31,
      "outputs": [
        {
          "output_type": "stream",
          "name": "stdout",
          "text": [
            "              precision    recall  f1-score   support\n",
            "\n",
            "         0.0       0.04      0.12      0.06         8\n",
            "         1.0       0.89      0.71      0.79        83\n",
            "\n",
            "    accuracy                           0.66        91\n",
            "   macro avg       0.47      0.42      0.43        91\n",
            "weighted avg       0.82      0.66      0.73        91\n",
            "\n"
          ]
        }
      ]
    },
    {
      "cell_type": "markdown",
      "source": [
        "## Parameter Tunning KNN"
      ],
      "metadata": {
        "id": "RSeCZyuDoLa9"
      }
    },
    {
      "cell_type": "code",
      "source": [
        "knn2 = KNeighborsClassifier()\n",
        "ks = list(range(1, 26))+ []\n",
        "parameter_grid = {'n_neighbors': ks}\n",
        "knn_cv = GridSearchCV(knn2, parameter_grid, cv=10, scoring=f1)\n",
        "#fit model to data\n",
        "knn_cv.fit(X_train, Y_train.values.ravel())"
      ],
      "metadata": {
        "colab": {
          "base_uri": "https://localhost:8080/"
        },
        "id": "cyR72QGooOzM",
        "outputId": "f53b95cc-99df-4cf7-f143-836ead434160"
      },
      "execution_count": 32,
      "outputs": [
        {
          "output_type": "execute_result",
          "data": {
            "text/plain": [
              "GridSearchCV(cv=10, estimator=KNeighborsClassifier(),\n",
              "             param_grid={'n_neighbors': [1, 2, 3, 4, 5, 6, 7, 8, 9, 10, 11, 12,\n",
              "                                         13, 14, 15, 16, 17, 18, 19, 20, 21, 22,\n",
              "                                         23, 24, 25]},\n",
              "             scoring=make_scorer(f1_score, average=binary, pos_label=1))"
            ]
          },
          "metadata": {},
          "execution_count": 32
        }
      ]
    },
    {
      "cell_type": "code",
      "source": [
        "print(knn_cv.best_score_)\n",
        "print(knn_cv.best_params_)"
      ],
      "metadata": {
        "colab": {
          "base_uri": "https://localhost:8080/"
        },
        "id": "UCYiX1emoV9q",
        "outputId": "039cc9cc-4c27-493c-da0f-fbe978e311f1"
      },
      "execution_count": 33,
      "outputs": [
        {
          "output_type": "stream",
          "name": "stdout",
          "text": [
            "0.9288367729831144\n",
            "{'n_neighbors': 11}\n"
          ]
        }
      ]
    },
    {
      "cell_type": "code",
      "source": [
        "knn_cv.cv_results_['mean_test_score']"
      ],
      "metadata": {
        "colab": {
          "base_uri": "https://localhost:8080/"
        },
        "id": "5jXhQRXZoegc",
        "outputId": "f99d677e-d7bb-4241-cc95-0eee5feed687"
      },
      "execution_count": 34,
      "outputs": [
        {
          "output_type": "execute_result",
          "data": {
            "text/plain": [
              "array([0.88136921, 0.84096344, 0.91028541, 0.89290315, 0.91990746,\n",
              "       0.9133355 , 0.92331046, 0.92007159, 0.92614447, 0.92331046,\n",
              "       0.92883677, 0.92883677, 0.92883677, 0.92883677, 0.92883677,\n",
              "       0.92883677, 0.92883677, 0.92883677, 0.92883677, 0.92883677,\n",
              "       0.92883677, 0.92883677, 0.92883677, 0.92883677, 0.92883677])"
            ]
          },
          "metadata": {},
          "execution_count": 34
        }
      ]
    },
    {
      "cell_type": "code",
      "source": [
        "pred_knn = knn_cv.predict(X_test)"
      ],
      "metadata": {
        "id": "nHCjOoJ8ohM2"
      },
      "execution_count": 35,
      "outputs": []
    },
    {
      "cell_type": "code",
      "source": [
        "print(confusion_matrix(Y_test, pred_knn))\n",
        "print(classification_report(Y_test, pred_knn))"
      ],
      "metadata": {
        "colab": {
          "base_uri": "https://localhost:8080/"
        },
        "id": "0J49wc_Aoi3K",
        "outputId": "c2eb6ccf-a119-4f1a-b070-de66d7da3ea6"
      },
      "execution_count": 36,
      "outputs": [
        {
          "output_type": "stream",
          "name": "stdout",
          "text": [
            "[[ 0  8]\n",
            " [ 0 83]]\n",
            "              precision    recall  f1-score   support\n",
            "\n",
            "         0.0       0.00      0.00      0.00         8\n",
            "         1.0       0.91      1.00      0.95        83\n",
            "\n",
            "    accuracy                           0.91        91\n",
            "   macro avg       0.46      0.50      0.48        91\n",
            "weighted avg       0.83      0.91      0.87        91\n",
            "\n"
          ]
        },
        {
          "output_type": "stream",
          "name": "stderr",
          "text": [
            "/usr/local/lib/python3.7/dist-packages/sklearn/metrics/_classification.py:1318: UndefinedMetricWarning: Precision and F-score are ill-defined and being set to 0.0 in labels with no predicted samples. Use `zero_division` parameter to control this behavior.\n",
            "  _warn_prf(average, modifier, msg_start, len(result))\n",
            "/usr/local/lib/python3.7/dist-packages/sklearn/metrics/_classification.py:1318: UndefinedMetricWarning: Precision and F-score are ill-defined and being set to 0.0 in labels with no predicted samples. Use `zero_division` parameter to control this behavior.\n",
            "  _warn_prf(average, modifier, msg_start, len(result))\n",
            "/usr/local/lib/python3.7/dist-packages/sklearn/metrics/_classification.py:1318: UndefinedMetricWarning: Precision and F-score are ill-defined and being set to 0.0 in labels with no predicted samples. Use `zero_division` parameter to control this behavior.\n",
            "  _warn_prf(average, modifier, msg_start, len(result))\n"
          ]
        }
      ]
    },
    {
      "cell_type": "markdown",
      "source": [
        "##Random Forest Classifier"
      ],
      "metadata": {
        "id": "IEwiTBVtonPm"
      }
    },
    {
      "cell_type": "code",
      "source": [
        "model_rf = RandomForestClassifier()\n",
        "model_rf.fit(X_train, Y_train)\n",
        "pred_rf = model_rf.predict(X_test)"
      ],
      "metadata": {
        "colab": {
          "base_uri": "https://localhost:8080/"
        },
        "id": "MjOO1CH8opoG",
        "outputId": "7eb38503-446f-4799-e2cc-2098009611c3"
      },
      "execution_count": 37,
      "outputs": [
        {
          "output_type": "stream",
          "name": "stderr",
          "text": [
            "/usr/local/lib/python3.7/dist-packages/ipykernel_launcher.py:2: DataConversionWarning: A column-vector y was passed when a 1d array was expected. Please change the shape of y to (n_samples,), for example using ravel().\n",
            "  \n"
          ]
        }
      ]
    },
    {
      "cell_type": "code",
      "source": [
        "print(confusion_matrix(Y_test, pred_rf))\n",
        "print(classification_report(Y_test, pred_rf))\n"
      ],
      "metadata": {
        "colab": {
          "base_uri": "https://localhost:8080/"
        },
        "id": "dy792I62otvo",
        "outputId": "346fa830-2203-4b6e-fe75-56838f2a9aa1"
      },
      "execution_count": 38,
      "outputs": [
        {
          "output_type": "stream",
          "name": "stdout",
          "text": [
            "[[ 0  8]\n",
            " [ 2 81]]\n",
            "              precision    recall  f1-score   support\n",
            "\n",
            "         0.0       0.00      0.00      0.00         8\n",
            "         1.0       0.91      0.98      0.94        83\n",
            "\n",
            "    accuracy                           0.89        91\n",
            "   macro avg       0.46      0.49      0.47        91\n",
            "weighted avg       0.83      0.89      0.86        91\n",
            "\n"
          ]
        }
      ]
    },
    {
      "cell_type": "markdown",
      "source": [
        "###PARAMETER TUNNING RANDOM FOREST"
      ],
      "metadata": {
        "id": "HhRnC5-po1CJ"
      }
    },
    {
      "cell_type": "code",
      "source": [
        "model_rf2 = RandomForestClassifier()\n",
        "parameter_grid = {'n_estimators': [32, 64, 100, 128, 200],\n",
        "                  'max_features': [2, 3, 4, 5, 10]}\n",
        "model_rf_cv = GridSearchCV(model_rf2, parameter_grid, cv=10, scoring=f1)\n",
        "#fit model to data\n",
        "model_rf_cv.fit(X_train, Y_train.values.ravel())"
      ],
      "metadata": {
        "colab": {
          "base_uri": "https://localhost:8080/"
        },
        "id": "JAgj3oEfo3JS",
        "outputId": "82ccde2d-eeaa-4e49-bbfe-a2fd0c93c4db"
      },
      "execution_count": 39,
      "outputs": [
        {
          "output_type": "stream",
          "name": "stderr",
          "text": [
            "/usr/local/lib/python3.7/dist-packages/sklearn/model_selection/_validation.py:372: FitFailedWarning: \n",
            "50 fits failed out of a total of 250.\n",
            "The score on these train-test partitions for these parameters will be set to nan.\n",
            "If these failures are not expected, you can try to debug them by setting error_score='raise'.\n",
            "\n",
            "Below are more details about the failures:\n",
            "--------------------------------------------------------------------------------\n",
            "50 fits failed with the following error:\n",
            "Traceback (most recent call last):\n",
            "  File \"/usr/local/lib/python3.7/dist-packages/sklearn/model_selection/_validation.py\", line 680, in _fit_and_score\n",
            "    estimator.fit(X_train, y_train, **fit_params)\n",
            "  File \"/usr/local/lib/python3.7/dist-packages/sklearn/ensemble/_forest.py\", line 467, in fit\n",
            "    for i, t in enumerate(trees)\n",
            "  File \"/usr/local/lib/python3.7/dist-packages/joblib/parallel.py\", line 1043, in __call__\n",
            "    if self.dispatch_one_batch(iterator):\n",
            "  File \"/usr/local/lib/python3.7/dist-packages/joblib/parallel.py\", line 861, in dispatch_one_batch\n",
            "    self._dispatch(tasks)\n",
            "  File \"/usr/local/lib/python3.7/dist-packages/joblib/parallel.py\", line 779, in _dispatch\n",
            "    job = self._backend.apply_async(batch, callback=cb)\n",
            "  File \"/usr/local/lib/python3.7/dist-packages/joblib/_parallel_backends.py\", line 208, in apply_async\n",
            "    result = ImmediateResult(func)\n",
            "  File \"/usr/local/lib/python3.7/dist-packages/joblib/_parallel_backends.py\", line 572, in __init__\n",
            "    self.results = batch()\n",
            "  File \"/usr/local/lib/python3.7/dist-packages/joblib/parallel.py\", line 263, in __call__\n",
            "    for func, args, kwargs in self.items]\n",
            "  File \"/usr/local/lib/python3.7/dist-packages/joblib/parallel.py\", line 263, in <listcomp>\n",
            "    for func, args, kwargs in self.items]\n",
            "  File \"/usr/local/lib/python3.7/dist-packages/sklearn/utils/fixes.py\", line 216, in __call__\n",
            "    return self.function(*args, **kwargs)\n",
            "  File \"/usr/local/lib/python3.7/dist-packages/sklearn/ensemble/_forest.py\", line 185, in _parallel_build_trees\n",
            "    tree.fit(X, y, sample_weight=curr_sample_weight, check_input=False)\n",
            "  File \"/usr/local/lib/python3.7/dist-packages/sklearn/tree/_classes.py\", line 942, in fit\n",
            "    X_idx_sorted=X_idx_sorted,\n",
            "  File \"/usr/local/lib/python3.7/dist-packages/sklearn/tree/_classes.py\", line 308, in fit\n",
            "    raise ValueError(\"max_features must be in (0, n_features]\")\n",
            "ValueError: max_features must be in (0, n_features]\n",
            "\n",
            "  warnings.warn(some_fits_failed_message, FitFailedWarning)\n",
            "/usr/local/lib/python3.7/dist-packages/sklearn/model_selection/_search.py:972: UserWarning: One or more of the test scores are non-finite: [0.91150209 0.9092915  0.91212551 0.92033475 0.91764244 0.91736834\n",
            " 0.91170916 0.90629492 0.90912893 0.90912893 0.90898723 0.90361199\n",
            " 0.906446   0.90629492 0.90928212 0.90573687 0.91479694 0.90912893\n",
            " 0.906446   0.90629492        nan        nan        nan        nan\n",
            "        nan]\n",
            "  category=UserWarning,\n"
          ]
        },
        {
          "output_type": "execute_result",
          "data": {
            "text/plain": [
              "GridSearchCV(cv=10, estimator=RandomForestClassifier(),\n",
              "             param_grid={'max_features': [2, 3, 4, 5, 10],\n",
              "                         'n_estimators': [32, 64, 100, 128, 200]},\n",
              "             scoring=make_scorer(f1_score, average=binary, pos_label=1))"
            ]
          },
          "metadata": {},
          "execution_count": 39
        }
      ]
    },
    {
      "cell_type": "code",
      "source": [
        "model_rf_cv.best_params_"
      ],
      "metadata": {
        "colab": {
          "base_uri": "https://localhost:8080/"
        },
        "id": "9-roGpCapb_h",
        "outputId": "a68aa217-1b1c-4c7b-cd00-a5309188e8a6"
      },
      "execution_count": 40,
      "outputs": [
        {
          "output_type": "execute_result",
          "data": {
            "text/plain": [
              "{'max_features': 2, 'n_estimators': 128}"
            ]
          },
          "metadata": {},
          "execution_count": 40
        }
      ]
    },
    {
      "cell_type": "code",
      "source": [
        "pred_rf_cv = model_rf_cv.predict(X_test)"
      ],
      "metadata": {
        "id": "1tOAJeZDphtj"
      },
      "execution_count": 41,
      "outputs": []
    },
    {
      "cell_type": "code",
      "source": [
        "print(confusion_matrix(Y_test, pred_rf_cv))\n",
        "print(classification_report(Y_test, pred_rf_cv))"
      ],
      "metadata": {
        "colab": {
          "base_uri": "https://localhost:8080/"
        },
        "id": "S1zUeWyOpmaK",
        "outputId": "ab349620-7978-4d45-8edd-43b9b77c0e76"
      },
      "execution_count": 42,
      "outputs": [
        {
          "output_type": "stream",
          "name": "stdout",
          "text": [
            "[[ 0  8]\n",
            " [ 3 80]]\n",
            "              precision    recall  f1-score   support\n",
            "\n",
            "         0.0       0.00      0.00      0.00         8\n",
            "         1.0       0.91      0.96      0.94        83\n",
            "\n",
            "    accuracy                           0.88        91\n",
            "   macro avg       0.45      0.48      0.47        91\n",
            "weighted avg       0.83      0.88      0.85        91\n",
            "\n"
          ]
        }
      ]
    },
    {
      "cell_type": "markdown",
      "source": [
        "#ADABOOST CLASSIFIER"
      ],
      "metadata": {
        "id": "_xN6WeICpqpL"
      }
    },
    {
      "cell_type": "code",
      "source": [
        "AdaBoostClassifier()"
      ],
      "metadata": {
        "colab": {
          "base_uri": "https://localhost:8080/"
        },
        "id": "5oPbl3UHpsTf",
        "outputId": "8e0e0d2f-0565-49f3-ddc1-c6f46e242992"
      },
      "execution_count": 43,
      "outputs": [
        {
          "output_type": "execute_result",
          "data": {
            "text/plain": [
              "AdaBoostClassifier()"
            ]
          },
          "metadata": {},
          "execution_count": 43
        }
      ]
    },
    {
      "cell_type": "code",
      "source": [
        "model_ab = AdaBoostClassifier()\n",
        "model_ab.fit(X_train, Y_train)\n",
        "pred_ab = model_ab.predict(X_test)"
      ],
      "metadata": {
        "colab": {
          "base_uri": "https://localhost:8080/"
        },
        "id": "U8mlniz1pvFk",
        "outputId": "2b3cd615-817c-4410-cdd5-247ab6c5015e"
      },
      "execution_count": 44,
      "outputs": [
        {
          "output_type": "stream",
          "name": "stderr",
          "text": [
            "/usr/local/lib/python3.7/dist-packages/sklearn/utils/validation.py:993: DataConversionWarning: A column-vector y was passed when a 1d array was expected. Please change the shape of y to (n_samples, ), for example using ravel().\n",
            "  y = column_or_1d(y, warn=True)\n"
          ]
        }
      ]
    },
    {
      "cell_type": "code",
      "source": [
        "print(confusion_matrix(Y_test, pred_ab))\n",
        "print(classification_report(Y_test, pred_ab))"
      ],
      "metadata": {
        "colab": {
          "base_uri": "https://localhost:8080/"
        },
        "id": "EpsnnYSOpx7S",
        "outputId": "e3135dac-0381-4b63-f2f2-0ad4327b1a11"
      },
      "execution_count": 45,
      "outputs": [
        {
          "output_type": "stream",
          "name": "stdout",
          "text": [
            "[[ 1  7]\n",
            " [ 6 77]]\n",
            "              precision    recall  f1-score   support\n",
            "\n",
            "         0.0       0.14      0.12      0.13         8\n",
            "         1.0       0.92      0.93      0.92        83\n",
            "\n",
            "    accuracy                           0.86        91\n",
            "   macro avg       0.53      0.53      0.53        91\n",
            "weighted avg       0.85      0.86      0.85        91\n",
            "\n"
          ]
        }
      ]
    },
    {
      "cell_type": "markdown",
      "source": [
        "##Parameter Tunning ADABOOST"
      ],
      "metadata": {
        "id": "j7J3Lro9sMxu"
      }
    },
    {
      "cell_type": "code",
      "source": [
        "model_ab2 = AdaBoostClassifier()\n",
        "parameter_grid = {'n_estimators': [30, 50, 100, 200],\n",
        "                  'learning_rate':[0.01, 0.1, 0.2, 0.5, 1.0]}\n",
        "model_ab_cv = GridSearchCV(model_ab2, parameter_grid, cv=10, scoring=f1)\n",
        "#fit model to data\n",
        "model_ab_cv.fit(X_train, Y_train.values.ravel())"
      ],
      "metadata": {
        "colab": {
          "base_uri": "https://localhost:8080/"
        },
        "id": "blRN3jt6sO3w",
        "outputId": "0ecd834e-4ef6-40da-bc02-2cef00cd3d40"
      },
      "execution_count": 46,
      "outputs": [
        {
          "output_type": "execute_result",
          "data": {
            "text/plain": [
              "GridSearchCV(cv=10, estimator=AdaBoostClassifier(),\n",
              "             param_grid={'learning_rate': [0.01, 0.1, 0.2, 0.5, 1.0],\n",
              "                         'n_estimators': [30, 50, 100, 200]},\n",
              "             scoring=make_scorer(f1_score, average=binary, pos_label=1))"
            ]
          },
          "metadata": {},
          "execution_count": 46
        }
      ]
    },
    {
      "cell_type": "code",
      "source": [
        "model_ab_cv.best_params_"
      ],
      "metadata": {
        "colab": {
          "base_uri": "https://localhost:8080/"
        },
        "id": "-vMyMpJnsWeT",
        "outputId": "4a8f522b-94f2-4bbb-b573-db8bb5cf0c2f"
      },
      "execution_count": 47,
      "outputs": [
        {
          "output_type": "execute_result",
          "data": {
            "text/plain": [
              "{'learning_rate': 0.01, 'n_estimators': 30}"
            ]
          },
          "metadata": {},
          "execution_count": 47
        }
      ]
    },
    {
      "cell_type": "code",
      "source": [
        "pred_ab_cv = model_ab_cv.predict(X_test)\n"
      ],
      "metadata": {
        "id": "OCIcdm8Ksg3B"
      },
      "execution_count": 48,
      "outputs": []
    },
    {
      "cell_type": "code",
      "source": [
        "print(confusion_matrix(Y_test, pred_ab_cv))\n",
        "print(classification_report(Y_test, pred_ab_cv))\n"
      ],
      "metadata": {
        "colab": {
          "base_uri": "https://localhost:8080/"
        },
        "id": "HYUZlC_Xsiz9",
        "outputId": "7b27b27c-9ffa-4e02-ef11-c7b6f0f2e87f"
      },
      "execution_count": 49,
      "outputs": [
        {
          "output_type": "stream",
          "name": "stdout",
          "text": [
            "[[ 0  8]\n",
            " [ 0 83]]\n",
            "              precision    recall  f1-score   support\n",
            "\n",
            "         0.0       0.00      0.00      0.00         8\n",
            "         1.0       0.91      1.00      0.95        83\n",
            "\n",
            "    accuracy                           0.91        91\n",
            "   macro avg       0.46      0.50      0.48        91\n",
            "weighted avg       0.83      0.91      0.87        91\n",
            "\n"
          ]
        },
        {
          "output_type": "stream",
          "name": "stderr",
          "text": [
            "/usr/local/lib/python3.7/dist-packages/sklearn/metrics/_classification.py:1318: UndefinedMetricWarning: Precision and F-score are ill-defined and being set to 0.0 in labels with no predicted samples. Use `zero_division` parameter to control this behavior.\n",
            "  _warn_prf(average, modifier, msg_start, len(result))\n",
            "/usr/local/lib/python3.7/dist-packages/sklearn/metrics/_classification.py:1318: UndefinedMetricWarning: Precision and F-score are ill-defined and being set to 0.0 in labels with no predicted samples. Use `zero_division` parameter to control this behavior.\n",
            "  _warn_prf(average, modifier, msg_start, len(result))\n",
            "/usr/local/lib/python3.7/dist-packages/sklearn/metrics/_classification.py:1318: UndefinedMetricWarning: Precision and F-score are ill-defined and being set to 0.0 in labels with no predicted samples. Use `zero_division` parameter to control this behavior.\n",
            "  _warn_prf(average, modifier, msg_start, len(result))\n"
          ]
        }
      ]
    },
    {
      "cell_type": "markdown",
      "source": [
        "#SUPPORT VECTOR CLASSIFIER"
      ],
      "metadata": {
        "id": "bho35tHssnlV"
      }
    },
    {
      "cell_type": "code",
      "source": [
        "from sklearn.svm import SVC\n",
        "svcmod = SVC(gamma='auto')\n",
        "\n",
        "from sklearn import svm, datasets\n",
        "from sklearn.model_selection import GridSearchCV"
      ],
      "metadata": {
        "id": "r_wZ1_gVsp3s"
      },
      "execution_count": 50,
      "outputs": []
    },
    {
      "cell_type": "code",
      "source": [
        "svcmod.fit(X_train, Y_train)"
      ],
      "metadata": {
        "colab": {
          "base_uri": "https://localhost:8080/"
        },
        "id": "rlpGPGcOss4Z",
        "outputId": "45559847-e156-4142-c376-4d284d3f76e9"
      },
      "execution_count": 51,
      "outputs": [
        {
          "output_type": "stream",
          "name": "stderr",
          "text": [
            "/usr/local/lib/python3.7/dist-packages/sklearn/utils/validation.py:993: DataConversionWarning: A column-vector y was passed when a 1d array was expected. Please change the shape of y to (n_samples, ), for example using ravel().\n",
            "  y = column_or_1d(y, warn=True)\n"
          ]
        },
        {
          "output_type": "execute_result",
          "data": {
            "text/plain": [
              "SVC(gamma='auto')"
            ]
          },
          "metadata": {},
          "execution_count": 51
        }
      ]
    },
    {
      "cell_type": "code",
      "source": [
        "pred_svc = svcmod.predict(X_test)"
      ],
      "metadata": {
        "id": "TekXYugBs0yZ"
      },
      "execution_count": 52,
      "outputs": []
    },
    {
      "cell_type": "code",
      "source": [
        "print(confusion_matrix(Y_test, pred_svc))\n",
        "print(classification_report(Y_test, pred_svc))"
      ],
      "metadata": {
        "colab": {
          "base_uri": "https://localhost:8080/"
        },
        "id": "sAfK6NQNs2lm",
        "outputId": "7dc231c9-5644-4650-8427-0c2ed4f040ca"
      },
      "execution_count": 53,
      "outputs": [
        {
          "output_type": "stream",
          "name": "stdout",
          "text": [
            "[[ 0  8]\n",
            " [ 0 83]]\n",
            "              precision    recall  f1-score   support\n",
            "\n",
            "         0.0       0.00      0.00      0.00         8\n",
            "         1.0       0.91      1.00      0.95        83\n",
            "\n",
            "    accuracy                           0.91        91\n",
            "   macro avg       0.46      0.50      0.48        91\n",
            "weighted avg       0.83      0.91      0.87        91\n",
            "\n"
          ]
        },
        {
          "output_type": "stream",
          "name": "stderr",
          "text": [
            "/usr/local/lib/python3.7/dist-packages/sklearn/metrics/_classification.py:1318: UndefinedMetricWarning: Precision and F-score are ill-defined and being set to 0.0 in labels with no predicted samples. Use `zero_division` parameter to control this behavior.\n",
            "  _warn_prf(average, modifier, msg_start, len(result))\n",
            "/usr/local/lib/python3.7/dist-packages/sklearn/metrics/_classification.py:1318: UndefinedMetricWarning: Precision and F-score are ill-defined and being set to 0.0 in labels with no predicted samples. Use `zero_division` parameter to control this behavior.\n",
            "  _warn_prf(average, modifier, msg_start, len(result))\n",
            "/usr/local/lib/python3.7/dist-packages/sklearn/metrics/_classification.py:1318: UndefinedMetricWarning: Precision and F-score are ill-defined and being set to 0.0 in labels with no predicted samples. Use `zero_division` parameter to control this behavior.\n",
            "  _warn_prf(average, modifier, msg_start, len(result))\n"
          ]
        }
      ]
    },
    {
      "cell_type": "code",
      "source": [
        "param_grid = {'C':[1,10,100,1000], # cost for miss classification\n",
        "              'gamma':[1,0.1,0.001,0.0001], # flexibility of the model \n",
        "              'kernel':['rbf']}\n",
        "svc_cv = GridSearchCV(SVC(),param_grid, refit = True, verbose=2)\n",
        "svc_cv.fit(X_train,Y_train.values.ravel())"
      ],
      "metadata": {
        "colab": {
          "base_uri": "https://localhost:8080/"
        },
        "id": "wNDm-AZos7pp",
        "outputId": "a7002054-e7f2-4c57-f6dc-7c9f31225801"
      },
      "execution_count": 54,
      "outputs": [
        {
          "output_type": "stream",
          "name": "stdout",
          "text": [
            "Fitting 5 folds for each of 16 candidates, totalling 80 fits\n",
            "[CV] END ...........................C=1, gamma=1, kernel=rbf; total time=   0.0s\n",
            "[CV] END ...........................C=1, gamma=1, kernel=rbf; total time=   0.0s\n",
            "[CV] END ...........................C=1, gamma=1, kernel=rbf; total time=   0.0s\n",
            "[CV] END ...........................C=1, gamma=1, kernel=rbf; total time=   0.0s\n",
            "[CV] END ...........................C=1, gamma=1, kernel=rbf; total time=   0.0s\n",
            "[CV] END .........................C=1, gamma=0.1, kernel=rbf; total time=   0.0s\n",
            "[CV] END .........................C=1, gamma=0.1, kernel=rbf; total time=   0.0s\n",
            "[CV] END .........................C=1, gamma=0.1, kernel=rbf; total time=   0.0s\n",
            "[CV] END .........................C=1, gamma=0.1, kernel=rbf; total time=   0.0s\n",
            "[CV] END .........................C=1, gamma=0.1, kernel=rbf; total time=   0.0s\n",
            "[CV] END .......................C=1, gamma=0.001, kernel=rbf; total time=   0.0s\n",
            "[CV] END .......................C=1, gamma=0.001, kernel=rbf; total time=   0.0s\n",
            "[CV] END .......................C=1, gamma=0.001, kernel=rbf; total time=   0.0s\n",
            "[CV] END .......................C=1, gamma=0.001, kernel=rbf; total time=   0.0s\n",
            "[CV] END .......................C=1, gamma=0.001, kernel=rbf; total time=   0.0s\n",
            "[CV] END ......................C=1, gamma=0.0001, kernel=rbf; total time=   0.0s\n",
            "[CV] END ......................C=1, gamma=0.0001, kernel=rbf; total time=   0.0s\n",
            "[CV] END ......................C=1, gamma=0.0001, kernel=rbf; total time=   0.0s\n",
            "[CV] END ......................C=1, gamma=0.0001, kernel=rbf; total time=   0.0s\n",
            "[CV] END ......................C=1, gamma=0.0001, kernel=rbf; total time=   0.0s\n",
            "[CV] END ..........................C=10, gamma=1, kernel=rbf; total time=   0.0s\n",
            "[CV] END ..........................C=10, gamma=1, kernel=rbf; total time=   0.0s\n",
            "[CV] END ..........................C=10, gamma=1, kernel=rbf; total time=   0.0s\n",
            "[CV] END ..........................C=10, gamma=1, kernel=rbf; total time=   0.0s\n",
            "[CV] END ..........................C=10, gamma=1, kernel=rbf; total time=   0.0s\n",
            "[CV] END ........................C=10, gamma=0.1, kernel=rbf; total time=   0.0s\n",
            "[CV] END ........................C=10, gamma=0.1, kernel=rbf; total time=   0.0s\n",
            "[CV] END ........................C=10, gamma=0.1, kernel=rbf; total time=   0.0s\n",
            "[CV] END ........................C=10, gamma=0.1, kernel=rbf; total time=   0.0s\n",
            "[CV] END ........................C=10, gamma=0.1, kernel=rbf; total time=   0.0s\n",
            "[CV] END ......................C=10, gamma=0.001, kernel=rbf; total time=   0.0s\n",
            "[CV] END ......................C=10, gamma=0.001, kernel=rbf; total time=   0.0s\n",
            "[CV] END ......................C=10, gamma=0.001, kernel=rbf; total time=   0.0s\n",
            "[CV] END ......................C=10, gamma=0.001, kernel=rbf; total time=   0.0s\n",
            "[CV] END ......................C=10, gamma=0.001, kernel=rbf; total time=   0.0s\n",
            "[CV] END .....................C=10, gamma=0.0001, kernel=rbf; total time=   0.0s\n",
            "[CV] END .....................C=10, gamma=0.0001, kernel=rbf; total time=   0.0s\n",
            "[CV] END .....................C=10, gamma=0.0001, kernel=rbf; total time=   0.0s\n",
            "[CV] END .....................C=10, gamma=0.0001, kernel=rbf; total time=   0.0s\n",
            "[CV] END .....................C=10, gamma=0.0001, kernel=rbf; total time=   0.0s\n",
            "[CV] END .........................C=100, gamma=1, kernel=rbf; total time=   0.0s\n",
            "[CV] END .........................C=100, gamma=1, kernel=rbf; total time=   0.0s\n",
            "[CV] END .........................C=100, gamma=1, kernel=rbf; total time=   0.0s\n",
            "[CV] END .........................C=100, gamma=1, kernel=rbf; total time=   0.0s\n",
            "[CV] END .........................C=100, gamma=1, kernel=rbf; total time=   0.0s\n",
            "[CV] END .......................C=100, gamma=0.1, kernel=rbf; total time=   0.0s\n",
            "[CV] END .......................C=100, gamma=0.1, kernel=rbf; total time=   0.0s\n",
            "[CV] END .......................C=100, gamma=0.1, kernel=rbf; total time=   0.0s\n",
            "[CV] END .......................C=100, gamma=0.1, kernel=rbf; total time=   0.0s\n",
            "[CV] END .......................C=100, gamma=0.1, kernel=rbf; total time=   0.0s\n",
            "[CV] END .....................C=100, gamma=0.001, kernel=rbf; total time=   0.0s\n",
            "[CV] END .....................C=100, gamma=0.001, kernel=rbf; total time=   0.0s\n",
            "[CV] END .....................C=100, gamma=0.001, kernel=rbf; total time=   0.0s\n",
            "[CV] END .....................C=100, gamma=0.001, kernel=rbf; total time=   0.0s\n",
            "[CV] END .....................C=100, gamma=0.001, kernel=rbf; total time=   0.0s\n",
            "[CV] END ....................C=100, gamma=0.0001, kernel=rbf; total time=   0.0s\n",
            "[CV] END ....................C=100, gamma=0.0001, kernel=rbf; total time=   0.0s\n",
            "[CV] END ....................C=100, gamma=0.0001, kernel=rbf; total time=   0.0s\n",
            "[CV] END ....................C=100, gamma=0.0001, kernel=rbf; total time=   0.0s\n",
            "[CV] END ....................C=100, gamma=0.0001, kernel=rbf; total time=   0.0s\n",
            "[CV] END ........................C=1000, gamma=1, kernel=rbf; total time=   0.0s\n",
            "[CV] END ........................C=1000, gamma=1, kernel=rbf; total time=   0.0s\n",
            "[CV] END ........................C=1000, gamma=1, kernel=rbf; total time=   0.0s\n",
            "[CV] END ........................C=1000, gamma=1, kernel=rbf; total time=   0.0s\n",
            "[CV] END ........................C=1000, gamma=1, kernel=rbf; total time=   0.0s\n",
            "[CV] END ......................C=1000, gamma=0.1, kernel=rbf; total time=   0.0s\n",
            "[CV] END ......................C=1000, gamma=0.1, kernel=rbf; total time=   0.0s\n",
            "[CV] END ......................C=1000, gamma=0.1, kernel=rbf; total time=   0.0s\n",
            "[CV] END ......................C=1000, gamma=0.1, kernel=rbf; total time=   0.0s\n",
            "[CV] END ......................C=1000, gamma=0.1, kernel=rbf; total time=   0.0s\n",
            "[CV] END ....................C=1000, gamma=0.001, kernel=rbf; total time=   0.0s\n",
            "[CV] END ....................C=1000, gamma=0.001, kernel=rbf; total time=   0.0s\n",
            "[CV] END ....................C=1000, gamma=0.001, kernel=rbf; total time=   0.0s\n",
            "[CV] END ....................C=1000, gamma=0.001, kernel=rbf; total time=   0.0s\n",
            "[CV] END ....................C=1000, gamma=0.001, kernel=rbf; total time=   0.0s\n",
            "[CV] END ...................C=1000, gamma=0.0001, kernel=rbf; total time=   0.0s\n",
            "[CV] END ...................C=1000, gamma=0.0001, kernel=rbf; total time=   0.0s\n",
            "[CV] END ...................C=1000, gamma=0.0001, kernel=rbf; total time=   0.0s\n",
            "[CV] END ...................C=1000, gamma=0.0001, kernel=rbf; total time=   0.0s\n",
            "[CV] END ...................C=1000, gamma=0.0001, kernel=rbf; total time=   0.0s\n"
          ]
        },
        {
          "output_type": "execute_result",
          "data": {
            "text/plain": [
              "GridSearchCV(estimator=SVC(),\n",
              "             param_grid={'C': [1, 10, 100, 1000],\n",
              "                         'gamma': [1, 0.1, 0.001, 0.0001], 'kernel': ['rbf']},\n",
              "             verbose=2)"
            ]
          },
          "metadata": {},
          "execution_count": 54
        }
      ]
    },
    {
      "cell_type": "code",
      "source": [
        "pred_svc = svc_cv.predict(X_test)\n",
        "print(classification_report(Y_test, pred_svc))\n",
        "print(confusion_matrix(Y_test, pred_svc))"
      ],
      "metadata": {
        "colab": {
          "base_uri": "https://localhost:8080/"
        },
        "id": "Dvfj1IpBtEut",
        "outputId": "779c69bd-c1c0-4a49-c9d8-ff74ddbe61f3"
      },
      "execution_count": 55,
      "outputs": [
        {
          "output_type": "stream",
          "name": "stdout",
          "text": [
            "              precision    recall  f1-score   support\n",
            "\n",
            "         0.0       0.00      0.00      0.00         8\n",
            "         1.0       0.91      1.00      0.95        83\n",
            "\n",
            "    accuracy                           0.91        91\n",
            "   macro avg       0.46      0.50      0.48        91\n",
            "weighted avg       0.83      0.91      0.87        91\n",
            "\n",
            "[[ 0  8]\n",
            " [ 0 83]]\n"
          ]
        },
        {
          "output_type": "stream",
          "name": "stderr",
          "text": [
            "/usr/local/lib/python3.7/dist-packages/sklearn/metrics/_classification.py:1318: UndefinedMetricWarning: Precision and F-score are ill-defined and being set to 0.0 in labels with no predicted samples. Use `zero_division` parameter to control this behavior.\n",
            "  _warn_prf(average, modifier, msg_start, len(result))\n",
            "/usr/local/lib/python3.7/dist-packages/sklearn/metrics/_classification.py:1318: UndefinedMetricWarning: Precision and F-score are ill-defined and being set to 0.0 in labels with no predicted samples. Use `zero_division` parameter to control this behavior.\n",
            "  _warn_prf(average, modifier, msg_start, len(result))\n",
            "/usr/local/lib/python3.7/dist-packages/sklearn/metrics/_classification.py:1318: UndefinedMetricWarning: Precision and F-score are ill-defined and being set to 0.0 in labels with no predicted samples. Use `zero_division` parameter to control this behavior.\n",
            "  _warn_prf(average, modifier, msg_start, len(result))\n"
          ]
        }
      ]
    }
  ]
}